{
 "cells": [
  {
   "cell_type": "code",
   "execution_count": 1,
   "metadata": {},
   "outputs": [
    {
     "name": "stdout",
     "output_type": "stream",
     "text": [
      "Downloading https://github.com/ultralytics/assets/releases/download/v8.1.0/yolov8n.pt to 'yolov8n.pt'...\n"
     ]
    },
    {
     "name": "stderr",
     "output_type": "stream",
     "text": [
      "100%|██████████| 6.23M/6.23M [00:00<00:00, 12.1MB/s]\n"
     ]
    },
    {
     "name": "stdout",
     "output_type": "stream",
     "text": [
      "New https://pypi.org/project/ultralytics/8.1.24 available 😃 Update with 'pip install -U ultralytics'\n",
      "Ultralytics YOLOv8.1.20 🚀 Python-3.12.1 torch-2.2.1+cpu CPU (11th Gen Intel Core(TM) i7-11800H 2.30GHz)\n",
      "\u001b[34m\u001b[1mengine\\trainer: \u001b[0mtask=detect, mode=train, model=yolov8n.pt, data=config.yaml, epochs=25, time=None, patience=100, batch=16, imgsz=640, save=True, save_period=-1, cache=False, device=None, workers=8, project=None, name=train, exist_ok=False, pretrained=True, optimizer=auto, verbose=True, seed=0, deterministic=True, single_cls=False, rect=False, cos_lr=False, close_mosaic=10, resume=False, amp=True, fraction=1.0, profile=False, freeze=None, multi_scale=False, overlap_mask=True, mask_ratio=4, dropout=0.0, val=True, split=val, save_json=False, save_hybrid=False, conf=None, iou=0.7, max_det=300, half=False, dnn=False, plots=True, source=None, vid_stride=1, stream_buffer=False, visualize=False, augment=False, agnostic_nms=False, classes=None, retina_masks=False, embed=None, show=False, save_frames=False, save_txt=False, save_conf=False, save_crop=False, show_labels=True, show_conf=True, show_boxes=True, line_width=None, format=torchscript, keras=False, optimize=False, int8=False, dynamic=False, simplify=False, opset=None, workspace=4, nms=False, lr0=0.01, lrf=0.01, momentum=0.937, weight_decay=0.0005, warmup_epochs=3.0, warmup_momentum=0.8, warmup_bias_lr=0.1, box=7.5, cls=0.5, dfl=1.5, pose=12.0, kobj=1.0, label_smoothing=0.0, nbs=64, hsv_h=0.015, hsv_s=0.7, hsv_v=0.4, degrees=0.0, translate=0.1, scale=0.5, shear=0.0, perspective=0.0, flipud=0.0, fliplr=0.5, mosaic=1.0, mixup=0.0, copy_paste=0.0, auto_augment=randaugment, erasing=0.4, crop_fraction=1.0, cfg=None, tracker=botsort.yaml, save_dir=runs\\detect\\train\n",
      "Overriding model.yaml nc=80 with nc=2\n",
      "\n",
      "                   from  n    params  module                                       arguments                     \n",
      "  0                  -1  1       464  ultralytics.nn.modules.conv.Conv             [3, 16, 3, 2]                 \n",
      "  1                  -1  1      4672  ultralytics.nn.modules.conv.Conv             [16, 32, 3, 2]                \n",
      "  2                  -1  1      7360  ultralytics.nn.modules.block.C2f             [32, 32, 1, True]             \n",
      "  3                  -1  1     18560  ultralytics.nn.modules.conv.Conv             [32, 64, 3, 2]                \n",
      "  4                  -1  2     49664  ultralytics.nn.modules.block.C2f             [64, 64, 2, True]             \n",
      "  5                  -1  1     73984  ultralytics.nn.modules.conv.Conv             [64, 128, 3, 2]               \n",
      "  6                  -1  2    197632  ultralytics.nn.modules.block.C2f             [128, 128, 2, True]           \n",
      "  7                  -1  1    295424  ultralytics.nn.modules.conv.Conv             [128, 256, 3, 2]              \n",
      "  8                  -1  1    460288  ultralytics.nn.modules.block.C2f             [256, 256, 1, True]           \n",
      "  9                  -1  1    164608  ultralytics.nn.modules.block.SPPF            [256, 256, 5]                 \n",
      " 10                  -1  1         0  torch.nn.modules.upsampling.Upsample         [None, 2, 'nearest']          \n",
      " 11             [-1, 6]  1         0  ultralytics.nn.modules.conv.Concat           [1]                           \n",
      " 12                  -1  1    148224  ultralytics.nn.modules.block.C2f             [384, 128, 1]                 \n",
      " 13                  -1  1         0  torch.nn.modules.upsampling.Upsample         [None, 2, 'nearest']          \n",
      " 14             [-1, 4]  1         0  ultralytics.nn.modules.conv.Concat           [1]                           \n",
      " 15                  -1  1     37248  ultralytics.nn.modules.block.C2f             [192, 64, 1]                  \n",
      " 16                  -1  1     36992  ultralytics.nn.modules.conv.Conv             [64, 64, 3, 2]                \n",
      " 17            [-1, 12]  1         0  ultralytics.nn.modules.conv.Concat           [1]                           \n",
      " 18                  -1  1    123648  ultralytics.nn.modules.block.C2f             [192, 128, 1]                 \n",
      " 19                  -1  1    147712  ultralytics.nn.modules.conv.Conv             [128, 128, 3, 2]              \n",
      " 20             [-1, 9]  1         0  ultralytics.nn.modules.conv.Concat           [1]                           \n",
      " 21                  -1  1    493056  ultralytics.nn.modules.block.C2f             [384, 256, 1]                 \n",
      " 22        [15, 18, 21]  1    751702  ultralytics.nn.modules.head.Detect           [2, [64, 128, 256]]           \n",
      "Model summary: 225 layers, 3011238 parameters, 3011222 gradients\n",
      "\n",
      "Transferred 319/355 items from pretrained weights\n",
      "\u001b[34m\u001b[1mUltralytics HUB: \u001b[0mView model at https://hub.ultralytics.com/models/jOiyj4yNaEKy3JXRigeA 🚀\n",
      "Freezing layer 'model.22.dfl.conv.weight'\n"
     ]
    },
    {
     "name": "stderr",
     "output_type": "stream",
     "text": [
      "\u001b[34m\u001b[1mtrain: \u001b[0mScanning D:\\heisen\\IITM studies\\3rd year\\sem 6\\ID4900\\data__\\data\\labels\\train.cache... 283 images, 0 backgrounds, 0 corrupt: 100%|██████████| 283/283 [00:00<?, ?it/s]\n",
      "\u001b[34m\u001b[1mval: \u001b[0mScanning D:\\heisen\\IITM studies\\3rd year\\sem 6\\ID4900\\data__\\data\\labels\\val.cache... 50 images, 0 backgrounds, 0 corrupt: 100%|██████████| 50/50 [00:00<?, ?it/s]\n"
     ]
    },
    {
     "name": "stdout",
     "output_type": "stream",
     "text": [
      "Plotting labels to runs\\detect\\train\\labels.jpg... \n",
      "\u001b[34m\u001b[1moptimizer:\u001b[0m 'optimizer=auto' found, ignoring 'lr0=0.01' and 'momentum=0.937' and determining best 'optimizer', 'lr0' and 'momentum' automatically... \n",
      "\u001b[34m\u001b[1moptimizer:\u001b[0m AdamW(lr=0.001667, momentum=0.9) with parameter groups 57 weight(decay=0.0), 64 weight(decay=0.0005), 63 bias(decay=0.0)\n",
      "Image sizes 640 train, 640 val\n",
      "Using 0 dataloader workers\n",
      "Logging results to \u001b[1mruns\\detect\\train\u001b[0m\n",
      "Starting training for 25 epochs...\n",
      "\n",
      "      Epoch    GPU_mem   box_loss   cls_loss   dfl_loss  Instances       Size\n"
     ]
    },
    {
     "name": "stderr",
     "output_type": "stream",
     "text": [
      "       1/25         0G      1.507      3.043      1.381         43        640: 100%|██████████| 18/18 [01:31<00:00,  5.07s/it]\n",
      "                 Class     Images  Instances      Box(P          R      mAP50  mAP50-95): 100%|██████████| 2/2 [00:09<00:00,  4.60s/it]"
     ]
    },
    {
     "name": "stdout",
     "output_type": "stream",
     "text": [
      "                   all         50        158       0.87     0.0707      0.231      0.146\n"
     ]
    },
    {
     "name": "stderr",
     "output_type": "stream",
     "text": [
      "\n"
     ]
    },
    {
     "name": "stdout",
     "output_type": "stream",
     "text": [
      "\n",
      "      Epoch    GPU_mem   box_loss   cls_loss   dfl_loss  Instances       Size\n"
     ]
    },
    {
     "name": "stderr",
     "output_type": "stream",
     "text": [
      "       2/25         0G      1.377       1.85      1.217         49        640: 100%|██████████| 18/18 [01:27<00:00,  4.88s/it]\n",
      "                 Class     Images  Instances      Box(P          R      mAP50  mAP50-95): 100%|██████████| 2/2 [00:07<00:00,  3.88s/it]"
     ]
    },
    {
     "name": "stdout",
     "output_type": "stream",
     "text": [
      "                   all         50        158      0.868      0.218      0.314      0.205\n"
     ]
    },
    {
     "name": "stderr",
     "output_type": "stream",
     "text": [
      "\n"
     ]
    },
    {
     "name": "stdout",
     "output_type": "stream",
     "text": [
      "\n",
      "      Epoch    GPU_mem   box_loss   cls_loss   dfl_loss  Instances       Size\n"
     ]
    },
    {
     "name": "stderr",
     "output_type": "stream",
     "text": [
      "       3/25         0G      1.346      1.686      1.208         69        640: 100%|██████████| 18/18 [01:26<00:00,  4.81s/it]\n",
      "                 Class     Images  Instances      Box(P          R      mAP50  mAP50-95): 100%|██████████| 2/2 [00:07<00:00,  3.86s/it]"
     ]
    },
    {
     "name": "stdout",
     "output_type": "stream",
     "text": [
      "                   all         50        158      0.868      0.228      0.318      0.192\n"
     ]
    },
    {
     "name": "stderr",
     "output_type": "stream",
     "text": [
      "\n"
     ]
    },
    {
     "name": "stdout",
     "output_type": "stream",
     "text": [
      "\n",
      "      Epoch    GPU_mem   box_loss   cls_loss   dfl_loss  Instances       Size\n"
     ]
    },
    {
     "name": "stderr",
     "output_type": "stream",
     "text": [
      "       4/25         0G      1.343      1.513      1.219         53        640: 100%|██████████| 18/18 [01:24<00:00,  4.72s/it]\n",
      "                 Class     Images  Instances      Box(P          R      mAP50  mAP50-95): 100%|██████████| 2/2 [00:07<00:00,  3.83s/it]"
     ]
    },
    {
     "name": "stdout",
     "output_type": "stream",
     "text": [
      "                   all         50        158      0.782      0.187      0.378      0.255\n"
     ]
    },
    {
     "name": "stderr",
     "output_type": "stream",
     "text": [
      "\n"
     ]
    },
    {
     "name": "stdout",
     "output_type": "stream",
     "text": [
      "\n",
      "      Epoch    GPU_mem   box_loss   cls_loss   dfl_loss  Instances       Size\n"
     ]
    },
    {
     "name": "stderr",
     "output_type": "stream",
     "text": [
      "       5/25         0G      1.328      1.502      1.249         48        640: 100%|██████████| 18/18 [01:19<00:00,  4.40s/it]\n",
      "                 Class     Images  Instances      Box(P          R      mAP50  mAP50-95): 100%|██████████| 2/2 [00:07<00:00,  3.94s/it]"
     ]
    },
    {
     "name": "stdout",
     "output_type": "stream",
     "text": [
      "                   all         50        158      0.668      0.421      0.529      0.326\n"
     ]
    },
    {
     "name": "stderr",
     "output_type": "stream",
     "text": [
      "\n"
     ]
    },
    {
     "name": "stdout",
     "output_type": "stream",
     "text": [
      "\n",
      "      Epoch    GPU_mem   box_loss   cls_loss   dfl_loss  Instances       Size\n"
     ]
    },
    {
     "name": "stderr",
     "output_type": "stream",
     "text": [
      "       6/25         0G      1.303      1.463      1.231         62        640: 100%|██████████| 18/18 [01:24<00:00,  4.67s/it]\n",
      "                 Class     Images  Instances      Box(P          R      mAP50  mAP50-95): 100%|██████████| 2/2 [00:06<00:00,  3.46s/it]"
     ]
    },
    {
     "name": "stdout",
     "output_type": "stream",
     "text": [
      "                   all         50        158      0.618      0.407      0.491      0.309\n"
     ]
    },
    {
     "name": "stderr",
     "output_type": "stream",
     "text": [
      "\n"
     ]
    },
    {
     "name": "stdout",
     "output_type": "stream",
     "text": [
      "\n",
      "      Epoch    GPU_mem   box_loss   cls_loss   dfl_loss  Instances       Size\n"
     ]
    },
    {
     "name": "stderr",
     "output_type": "stream",
     "text": [
      "       7/25         0G      1.309      1.423      1.218         36        640: 100%|██████████| 18/18 [01:24<00:00,  4.69s/it]\n",
      "                 Class     Images  Instances      Box(P          R      mAP50  mAP50-95): 100%|██████████| 2/2 [00:07<00:00,  3.50s/it]"
     ]
    },
    {
     "name": "stdout",
     "output_type": "stream",
     "text": [
      "                   all         50        158      0.591      0.549      0.526      0.295\n"
     ]
    },
    {
     "name": "stderr",
     "output_type": "stream",
     "text": [
      "\n"
     ]
    },
    {
     "name": "stdout",
     "output_type": "stream",
     "text": [
      "\n",
      "      Epoch    GPU_mem   box_loss   cls_loss   dfl_loss  Instances       Size\n"
     ]
    },
    {
     "name": "stderr",
     "output_type": "stream",
     "text": [
      "       8/25         0G      1.295      1.419      1.216         35        640: 100%|██████████| 18/18 [39:49<00:00, 132.73s/it] \n",
      "                 Class     Images  Instances      Box(P          R      mAP50  mAP50-95): 100%|██████████| 2/2 [00:07<00:00,  3.56s/it]"
     ]
    },
    {
     "name": "stdout",
     "output_type": "stream",
     "text": [
      "                   all         50        158      0.542      0.619      0.589      0.319\n"
     ]
    },
    {
     "name": "stderr",
     "output_type": "stream",
     "text": [
      "\n"
     ]
    },
    {
     "name": "stdout",
     "output_type": "stream",
     "text": [
      "\u001b[34m\u001b[1mUltralytics HUB: \u001b[0mUploading checkpoint https://hub.ultralytics.com/models/jOiyj4yNaEKy3JXRigeA\n",
      "\n",
      "      Epoch    GPU_mem   box_loss   cls_loss   dfl_loss  Instances       Size\n"
     ]
    },
    {
     "name": "stderr",
     "output_type": "stream",
     "text": [
      "       9/25         0G      1.279      1.302      1.218         43        640: 100%|██████████| 18/18 [01:30<00:00,  5.01s/it]\n",
      "                 Class     Images  Instances      Box(P          R      mAP50  mAP50-95): 100%|██████████| 2/2 [00:06<00:00,  3.46s/it]"
     ]
    },
    {
     "name": "stdout",
     "output_type": "stream",
     "text": [
      "                   all         50        158      0.705      0.506      0.576       0.35\n"
     ]
    },
    {
     "name": "stderr",
     "output_type": "stream",
     "text": [
      "\n"
     ]
    },
    {
     "name": "stdout",
     "output_type": "stream",
     "text": [
      "\n",
      "      Epoch    GPU_mem   box_loss   cls_loss   dfl_loss  Instances       Size\n"
     ]
    },
    {
     "name": "stderr",
     "output_type": "stream",
     "text": [
      "      10/25         0G      1.238      1.295      1.195         31        640: 100%|██████████| 18/18 [01:28<00:00,  4.94s/it]\n",
      "                 Class     Images  Instances      Box(P          R      mAP50  mAP50-95): 100%|██████████| 2/2 [00:07<00:00,  3.53s/it]"
     ]
    },
    {
     "name": "stdout",
     "output_type": "stream",
     "text": [
      "                   all         50        158      0.731      0.599      0.696      0.424\n"
     ]
    },
    {
     "name": "stderr",
     "output_type": "stream",
     "text": [
      "\n"
     ]
    },
    {
     "name": "stdout",
     "output_type": "stream",
     "text": [
      "\n",
      "      Epoch    GPU_mem   box_loss   cls_loss   dfl_loss  Instances       Size\n"
     ]
    },
    {
     "name": "stderr",
     "output_type": "stream",
     "text": [
      "      11/25         0G      1.269      1.227      1.198         40        640: 100%|██████████| 18/18 [01:28<00:00,  4.94s/it]\n",
      "                 Class     Images  Instances      Box(P          R      mAP50  mAP50-95): 100%|██████████| 2/2 [00:06<00:00,  3.46s/it]"
     ]
    },
    {
     "name": "stdout",
     "output_type": "stream",
     "text": [
      "                   all         50        158      0.918      0.525      0.699      0.428\n"
     ]
    },
    {
     "name": "stderr",
     "output_type": "stream",
     "text": [
      "\n"
     ]
    },
    {
     "name": "stdout",
     "output_type": "stream",
     "text": [
      "\n",
      "      Epoch    GPU_mem   box_loss   cls_loss   dfl_loss  Instances       Size\n"
     ]
    },
    {
     "name": "stderr",
     "output_type": "stream",
     "text": [
      "      12/25         0G      1.226      1.206      1.163         59        640: 100%|██████████| 18/18 [01:27<00:00,  4.85s/it]\n",
      "                 Class     Images  Instances      Box(P          R      mAP50  mAP50-95): 100%|██████████| 2/2 [00:07<00:00,  3.73s/it]"
     ]
    },
    {
     "name": "stdout",
     "output_type": "stream",
     "text": [
      "                   all         50        158      0.743      0.667      0.743      0.457\n"
     ]
    },
    {
     "name": "stderr",
     "output_type": "stream",
     "text": [
      "\n"
     ]
    },
    {
     "name": "stdout",
     "output_type": "stream",
     "text": [
      "\n",
      "      Epoch    GPU_mem   box_loss   cls_loss   dfl_loss  Instances       Size\n"
     ]
    },
    {
     "name": "stderr",
     "output_type": "stream",
     "text": [
      "      13/25         0G      1.208      1.118      1.177         53        640: 100%|██████████| 18/18 [01:28<00:00,  4.92s/it]\n",
      "                 Class     Images  Instances      Box(P          R      mAP50  mAP50-95): 100%|██████████| 2/2 [00:06<00:00,  3.24s/it]"
     ]
    },
    {
     "name": "stdout",
     "output_type": "stream",
     "text": [
      "                   all         50        158       0.78        0.7       0.75      0.437\n"
     ]
    },
    {
     "name": "stderr",
     "output_type": "stream",
     "text": [
      "\n"
     ]
    },
    {
     "name": "stdout",
     "output_type": "stream",
     "text": [
      "\n",
      "      Epoch    GPU_mem   box_loss   cls_loss   dfl_loss  Instances       Size\n"
     ]
    },
    {
     "name": "stderr",
     "output_type": "stream",
     "text": [
      "      14/25         0G      1.183      1.104      1.163         33        640: 100%|██████████| 18/18 [01:26<00:00,  4.80s/it]\n",
      "                 Class     Images  Instances      Box(P          R      mAP50  mAP50-95): 100%|██████████| 2/2 [00:06<00:00,  3.41s/it]"
     ]
    },
    {
     "name": "stdout",
     "output_type": "stream",
     "text": [
      "                   all         50        158      0.862      0.642       0.75      0.447\n",
      "\n",
      "      Epoch    GPU_mem   box_loss   cls_loss   dfl_loss  Instances       Size\n"
     ]
    },
    {
     "name": "stderr",
     "output_type": "stream",
     "text": [
      "\n",
      "      15/25         0G      1.184      1.107      1.164         35        640: 100%|██████████| 18/18 [01:29<00:00,  4.96s/it]\n",
      "                 Class     Images  Instances      Box(P          R      mAP50  mAP50-95): 100%|██████████| 2/2 [00:07<00:00,  3.68s/it]"
     ]
    },
    {
     "name": "stdout",
     "output_type": "stream",
     "text": [
      "                   all         50        158      0.813      0.644      0.735      0.445\n"
     ]
    },
    {
     "name": "stderr",
     "output_type": "stream",
     "text": [
      "\n"
     ]
    },
    {
     "name": "stdout",
     "output_type": "stream",
     "text": [
      "Closing dataloader mosaic\n",
      "\n",
      "      Epoch    GPU_mem   box_loss   cls_loss   dfl_loss  Instances       Size\n"
     ]
    },
    {
     "name": "stderr",
     "output_type": "stream",
     "text": [
      "      16/25         0G      1.133      1.119      1.156         31        640: 100%|██████████| 18/18 [01:30<00:00,  5.03s/it]\n",
      "                 Class     Images  Instances      Box(P          R      mAP50  mAP50-95): 100%|██████████| 2/2 [00:07<00:00,  3.58s/it]"
     ]
    },
    {
     "name": "stdout",
     "output_type": "stream",
     "text": [
      "                   all         50        158      0.769      0.674      0.749      0.452\n"
     ]
    },
    {
     "name": "stderr",
     "output_type": "stream",
     "text": [
      "\n"
     ]
    },
    {
     "name": "stdout",
     "output_type": "stream",
     "text": [
      "\n",
      "      Epoch    GPU_mem   box_loss   cls_loss   dfl_loss  Instances       Size\n"
     ]
    },
    {
     "name": "stderr",
     "output_type": "stream",
     "text": [
      "      17/25         0G      1.119      1.054      1.118         29        640: 100%|██████████| 18/18 [01:27<00:00,  4.86s/it]\n",
      "                 Class     Images  Instances      Box(P          R      mAP50  mAP50-95): 100%|██████████| 2/2 [00:06<00:00,  3.43s/it]"
     ]
    },
    {
     "name": "stdout",
     "output_type": "stream",
     "text": [
      "                   all         50        158      0.822      0.705      0.768      0.466\n"
     ]
    },
    {
     "name": "stderr",
     "output_type": "stream",
     "text": [
      "\n"
     ]
    },
    {
     "name": "stdout",
     "output_type": "stream",
     "text": [
      "\n",
      "      Epoch    GPU_mem   box_loss   cls_loss   dfl_loss  Instances       Size\n"
     ]
    },
    {
     "name": "stderr",
     "output_type": "stream",
     "text": [
      "      18/25         0G      1.113       1.02      1.126         28        640: 100%|██████████| 18/18 [01:27<00:00,  4.88s/it]\n",
      "                 Class     Images  Instances      Box(P          R      mAP50  mAP50-95): 100%|██████████| 2/2 [00:07<00:00,  3.55s/it]"
     ]
    },
    {
     "name": "stdout",
     "output_type": "stream",
     "text": [
      "                   all         50        158      0.728      0.694      0.757      0.466\n"
     ]
    },
    {
     "name": "stderr",
     "output_type": "stream",
     "text": [
      "\n"
     ]
    },
    {
     "name": "stdout",
     "output_type": "stream",
     "text": [
      "\u001b[34m\u001b[1mUltralytics HUB: \u001b[0mUploading checkpoint https://hub.ultralytics.com/models/jOiyj4yNaEKy3JXRigeA\n",
      "\n",
      "      Epoch    GPU_mem   box_loss   cls_loss   dfl_loss  Instances       Size\n"
     ]
    },
    {
     "name": "stderr",
     "output_type": "stream",
     "text": [
      "      19/25         0G      1.106     0.9938      1.109         34        640: 100%|██████████| 18/18 [01:28<00:00,  4.91s/it]\n",
      "                 Class     Images  Instances      Box(P          R      mAP50  mAP50-95): 100%|██████████| 2/2 [00:06<00:00,  3.47s/it]"
     ]
    },
    {
     "name": "stdout",
     "output_type": "stream",
     "text": [
      "                   all         50        158      0.752      0.695      0.759      0.458\n"
     ]
    },
    {
     "name": "stderr",
     "output_type": "stream",
     "text": [
      "\n"
     ]
    },
    {
     "name": "stdout",
     "output_type": "stream",
     "text": [
      "\n",
      "      Epoch    GPU_mem   box_loss   cls_loss   dfl_loss  Instances       Size\n"
     ]
    },
    {
     "name": "stderr",
     "output_type": "stream",
     "text": [
      "      20/25         0G      1.107     0.9667      1.129         31        640: 100%|██████████| 18/18 [01:28<00:00,  4.93s/it]\n",
      "                 Class     Images  Instances      Box(P          R      mAP50  mAP50-95): 100%|██████████| 2/2 [00:06<00:00,  3.38s/it]"
     ]
    },
    {
     "name": "stdout",
     "output_type": "stream",
     "text": [
      "                   all         50        158      0.798      0.711      0.789      0.495\n"
     ]
    },
    {
     "name": "stderr",
     "output_type": "stream",
     "text": [
      "\n"
     ]
    },
    {
     "name": "stdout",
     "output_type": "stream",
     "text": [
      "\n",
      "      Epoch    GPU_mem   box_loss   cls_loss   dfl_loss  Instances       Size\n"
     ]
    },
    {
     "name": "stderr",
     "output_type": "stream",
     "text": [
      "      21/25         0G      1.087     0.9085      1.096         30        640: 100%|██████████| 18/18 [01:29<00:00,  4.97s/it]\n",
      "                 Class     Images  Instances      Box(P          R      mAP50  mAP50-95): 100%|██████████| 2/2 [00:06<00:00,  3.43s/it]"
     ]
    },
    {
     "name": "stdout",
     "output_type": "stream",
     "text": [
      "                   all         50        158       0.88      0.621      0.781      0.489\n"
     ]
    },
    {
     "name": "stderr",
     "output_type": "stream",
     "text": [
      "\n"
     ]
    },
    {
     "name": "stdout",
     "output_type": "stream",
     "text": [
      "\n",
      "      Epoch    GPU_mem   box_loss   cls_loss   dfl_loss  Instances       Size\n"
     ]
    },
    {
     "name": "stderr",
     "output_type": "stream",
     "text": [
      "      22/25         0G      1.043     0.8875      1.087         27        640: 100%|██████████| 18/18 [01:28<00:00,  4.91s/it]\n",
      "                 Class     Images  Instances      Box(P          R      mAP50  mAP50-95): 100%|██████████| 2/2 [00:07<00:00,  3.57s/it]"
     ]
    },
    {
     "name": "stdout",
     "output_type": "stream",
     "text": [
      "                   all         50        158      0.819      0.708        0.8      0.491\n"
     ]
    },
    {
     "name": "stderr",
     "output_type": "stream",
     "text": [
      "\n"
     ]
    },
    {
     "name": "stdout",
     "output_type": "stream",
     "text": [
      "\n",
      "      Epoch    GPU_mem   box_loss   cls_loss   dfl_loss  Instances       Size\n"
     ]
    },
    {
     "name": "stderr",
     "output_type": "stream",
     "text": [
      "      23/25         0G      1.044     0.8883      1.081         30        640: 100%|██████████| 18/18 [01:33<00:00,  5.18s/it]\n",
      "                 Class     Images  Instances      Box(P          R      mAP50  mAP50-95): 100%|██████████| 2/2 [00:07<00:00,  3.97s/it]"
     ]
    },
    {
     "name": "stdout",
     "output_type": "stream",
     "text": [
      "                   all         50        158      0.829      0.737      0.817      0.495\n"
     ]
    },
    {
     "name": "stderr",
     "output_type": "stream",
     "text": [
      "\n"
     ]
    },
    {
     "name": "stdout",
     "output_type": "stream",
     "text": [
      "\n",
      "      Epoch    GPU_mem   box_loss   cls_loss   dfl_loss  Instances       Size\n"
     ]
    },
    {
     "name": "stderr",
     "output_type": "stream",
     "text": [
      "      24/25         0G      1.008     0.8312      1.053         24        640: 100%|██████████| 18/18 [01:26<00:00,  4.83s/it]\n",
      "                 Class     Images  Instances      Box(P          R      mAP50  mAP50-95): 100%|██████████| 2/2 [00:06<00:00,  3.23s/it]"
     ]
    },
    {
     "name": "stdout",
     "output_type": "stream",
     "text": [
      "                   all         50        158      0.817       0.73      0.826      0.514\n"
     ]
    },
    {
     "name": "stderr",
     "output_type": "stream",
     "text": [
      "\n"
     ]
    },
    {
     "name": "stdout",
     "output_type": "stream",
     "text": [
      "\n",
      "      Epoch    GPU_mem   box_loss   cls_loss   dfl_loss  Instances       Size\n"
     ]
    },
    {
     "name": "stderr",
     "output_type": "stream",
     "text": [
      "      25/25         0G     0.9668     0.7918      1.032         28        640: 100%|██████████| 18/18 [01:24<00:00,  4.69s/it]\n",
      "                 Class     Images  Instances      Box(P          R      mAP50  mAP50-95): 100%|██████████| 2/2 [00:06<00:00,  3.46s/it]"
     ]
    },
    {
     "name": "stdout",
     "output_type": "stream",
     "text": [
      "                   all         50        158       0.84       0.73      0.831      0.518\n"
     ]
    },
    {
     "name": "stderr",
     "output_type": "stream",
     "text": [
      "\n"
     ]
    },
    {
     "name": "stdout",
     "output_type": "stream",
     "text": [
      "\n",
      "25 epochs completed in 1.300 hours.\n",
      "Optimizer stripped from runs\\detect\\train\\weights\\last.pt, 6.2MB\n",
      "Optimizer stripped from runs\\detect\\train\\weights\\best.pt, 6.2MB\n",
      "\n",
      "Validating runs\\detect\\train\\weights\\best.pt...\n",
      "Ultralytics YOLOv8.1.20 🚀 Python-3.12.1 torch-2.2.1+cpu CPU (11th Gen Intel Core(TM) i7-11800H 2.30GHz)\n",
      "Model summary (fused): 168 layers, 3006038 parameters, 0 gradients\n"
     ]
    },
    {
     "name": "stderr",
     "output_type": "stream",
     "text": [
      "                 Class     Images  Instances      Box(P          R      mAP50  mAP50-95): 100%|██████████| 2/2 [00:05<00:00,  2.84s/it]\n"
     ]
    },
    {
     "name": "stdout",
     "output_type": "stream",
     "text": [
      "                   all         50        158      0.851      0.729      0.831      0.519\n",
      "               pushrim         50        101      0.891      0.792      0.896      0.614\n",
      "                castor         50         57       0.81      0.667      0.766      0.424\n",
      "Speed: 4.2ms preprocess, 99.1ms inference, 0.0ms loss, 1.5ms postprocess per image\n",
      "Results saved to \u001b[1mruns\\detect\\train\u001b[0m\n",
      "\u001b[34m\u001b[1mUltralytics HUB: \u001b[0mSyncing final model...\n"
     ]
    },
    {
     "name": "stderr",
     "output_type": "stream",
     "text": [
      "100%|██████████| 5.96M/5.96M [00:00<00:00, 6.39MB/s]"
     ]
    },
    {
     "name": "stdout",
     "output_type": "stream",
     "text": [
      "\u001b[34m\u001b[1mUltralytics HUB: \u001b[0mDone ✅\n",
      "\u001b[34m\u001b[1mUltralytics HUB: \u001b[0mView model at https://hub.ultralytics.com/models/jOiyj4yNaEKy3JXRigeA 🚀\n"
     ]
    },
    {
     "name": "stderr",
     "output_type": "stream",
     "text": [
      "\n"
     ]
    }
   ],
   "source": [
    "from ultralytics import YOLO\n",
    "\n",
    "# Load a model\n",
    "model = YOLO(\"yolov8n.pt\")  # build a new model from scratch\n",
    "\n",
    "# Use the model\n",
    "results = model.train(data=\"config.yaml\", epochs=25)  # train the model"
   ]
  },
  {
   "cell_type": "code",
   "execution_count": 2,
   "metadata": {},
   "outputs": [
    {
     "name": "stdout",
     "output_type": "stream",
     "text": [
      "\n",
      "0: 640x640 1 pushrim, 3 castors, 100.0ms\n",
      "Speed: 0.0ms preprocess, 100.0ms inference, 0.0ms postprocess per image at shape (1, 3, 640, 640)\n"
     ]
    }
   ],
   "source": [
    "#model('D:/heisen/IITM studies/3rd year/sem 6/ID4900/data__/data/images/test/download.jpeg')\n",
    "results = model(['D:/heisen/IITM studies/3rd year/sem 6/ID4900/data__/data/images/test/download.jpeg'])  # return a list of Results objects\n",
    "\n",
    "# Process results list\n",
    "for result in results:\n",
    "    boxes = result.boxes  # Boxes object for bounding box outputs\n",
    "    masks = result.masks  # Masks object for segmentation masks outputs\n",
    "    keypoints = result.keypoints  # Keypoints object for pose outputs\n",
    "    probs = result.probs  # Probs object for classification outputs\n",
    "    result.show()  # display to screen\n",
    "    result.save(filename='result.jpg')  # save to disk"
   ]
  },
  {
   "cell_type": "code",
   "execution_count": 4,
   "metadata": {},
   "outputs": [
    {
     "name": "stdout",
     "output_type": "stream",
     "text": [
      "\n",
      "0: 640x384 1 pushrim, 164.2ms\n",
      "Speed: 40.3ms preprocess, 164.2ms inference, 0.0ms postprocess per image at shape (1, 3, 640, 384)\n",
      "\n",
      "0: 640x384 1 pushrim, 96.8ms\n",
      "Speed: 5.2ms preprocess, 96.8ms inference, 2.4ms postprocess per image at shape (1, 3, 640, 384)\n",
      "\n",
      "0: 640x384 1 pushrim, 101.9ms\n",
      "Speed: 0.0ms preprocess, 101.9ms inference, 0.0ms postprocess per image at shape (1, 3, 640, 384)\n",
      "\n",
      "0: 640x384 1 pushrim, 99.5ms\n",
      "Speed: 1.9ms preprocess, 99.5ms inference, 0.0ms postprocess per image at shape (1, 3, 640, 384)\n",
      "\n",
      "0: 640x384 1 pushrim, 93.7ms\n",
      "Speed: 2.5ms preprocess, 93.7ms inference, 3.8ms postprocess per image at shape (1, 3, 640, 384)\n",
      "\n",
      "0: 640x384 1 pushrim, 95.3ms\n",
      "Speed: 0.0ms preprocess, 95.3ms inference, 0.0ms postprocess per image at shape (1, 3, 640, 384)\n",
      "\n",
      "0: 640x384 1 pushrim, 93.6ms\n",
      "Speed: 5.0ms preprocess, 93.6ms inference, 1.5ms postprocess per image at shape (1, 3, 640, 384)\n",
      "\n",
      "0: 640x384 1 pushrim, 96.8ms\n",
      "Speed: 9.9ms preprocess, 96.8ms inference, 0.0ms postprocess per image at shape (1, 3, 640, 384)\n",
      "\n",
      "0: 640x384 1 pushrim, 100.9ms\n",
      "Speed: 0.0ms preprocess, 100.9ms inference, 0.0ms postprocess per image at shape (1, 3, 640, 384)\n",
      "\n",
      "0: 640x384 1 pushrim, 92.0ms\n",
      "Speed: 0.0ms preprocess, 92.0ms inference, 5.0ms postprocess per image at shape (1, 3, 640, 384)\n",
      "\n",
      "0: 640x384 1 pushrim, 90.3ms\n",
      "Speed: 0.0ms preprocess, 90.3ms inference, 1.6ms postprocess per image at shape (1, 3, 640, 384)\n",
      "\n",
      "0: 640x384 1 pushrim, 81.6ms\n",
      "Speed: 2.5ms preprocess, 81.6ms inference, 3.5ms postprocess per image at shape (1, 3, 640, 384)\n",
      "\n",
      "0: 640x384 1 pushrim, 86.7ms\n",
      "Speed: 3.1ms preprocess, 86.7ms inference, 1.5ms postprocess per image at shape (1, 3, 640, 384)\n",
      "\n",
      "0: 640x384 1 pushrim, 85.8ms\n",
      "Speed: 8.6ms preprocess, 85.8ms inference, 3.1ms postprocess per image at shape (1, 3, 640, 384)\n",
      "\n",
      "0: 640x384 1 pushrim, 99.1ms\n",
      "Speed: 0.0ms preprocess, 99.1ms inference, 2.2ms postprocess per image at shape (1, 3, 640, 384)\n",
      "\n",
      "0: 640x384 1 pushrim, 83.7ms\n",
      "Speed: 4.3ms preprocess, 83.7ms inference, 0.0ms postprocess per image at shape (1, 3, 640, 384)\n",
      "\n",
      "0: 640x384 1 pushrim, 89.9ms\n",
      "Speed: 0.0ms preprocess, 89.9ms inference, 5.0ms postprocess per image at shape (1, 3, 640, 384)\n",
      "\n",
      "0: 640x384 1 pushrim, 84.9ms\n",
      "Speed: 0.0ms preprocess, 84.9ms inference, 0.0ms postprocess per image at shape (1, 3, 640, 384)\n",
      "\n",
      "0: 640x384 1 pushrim, 85.0ms\n",
      "Speed: 0.0ms preprocess, 85.0ms inference, 0.0ms postprocess per image at shape (1, 3, 640, 384)\n",
      "\n",
      "0: 640x384 1 pushrim, 81.8ms\n",
      "Speed: 10.5ms preprocess, 81.8ms inference, 0.0ms postprocess per image at shape (1, 3, 640, 384)\n",
      "\n",
      "0: 640x384 1 pushrim, 89.9ms\n",
      "Speed: 0.5ms preprocess, 89.9ms inference, 0.0ms postprocess per image at shape (1, 3, 640, 384)\n",
      "\n",
      "0: 640x384 1 pushrim, 109.7ms\n",
      "Speed: 0.0ms preprocess, 109.7ms inference, 0.0ms postprocess per image at shape (1, 3, 640, 384)\n",
      "\n",
      "0: 640x384 1 pushrim, 86.6ms\n",
      "Speed: 0.0ms preprocess, 86.6ms inference, 0.0ms postprocess per image at shape (1, 3, 640, 384)\n",
      "\n",
      "0: 640x384 1 pushrim, 75.0ms\n",
      "Speed: 5.0ms preprocess, 75.0ms inference, 10.0ms postprocess per image at shape (1, 3, 640, 384)\n",
      "\n",
      "0: 640x384 1 pushrim, 86.7ms\n",
      "Speed: 0.5ms preprocess, 86.7ms inference, 0.0ms postprocess per image at shape (1, 3, 640, 384)\n",
      "\n",
      "0: 640x384 1 pushrim, 90.1ms\n",
      "Speed: 7.0ms preprocess, 90.1ms inference, 0.0ms postprocess per image at shape (1, 3, 640, 384)\n",
      "\n",
      "0: 640x384 2 pushrims, 85.6ms\n",
      "Speed: 4.5ms preprocess, 85.6ms inference, 1.0ms postprocess per image at shape (1, 3, 640, 384)\n",
      "\n",
      "0: 640x384 1 pushrim, 81.4ms\n",
      "Speed: 3.6ms preprocess, 81.4ms inference, 0.0ms postprocess per image at shape (1, 3, 640, 384)\n",
      "\n",
      "0: 640x384 1 pushrim, 80.2ms\n",
      "Speed: 4.2ms preprocess, 80.2ms inference, 5.0ms postprocess per image at shape (1, 3, 640, 384)\n",
      "\n",
      "0: 640x384 1 pushrim, 84.1ms\n",
      "Speed: 3.5ms preprocess, 84.1ms inference, 0.0ms postprocess per image at shape (1, 3, 640, 384)\n",
      "\n",
      "0: 640x384 1 pushrim, 89.8ms\n",
      "Speed: 2.2ms preprocess, 89.8ms inference, 0.0ms postprocess per image at shape (1, 3, 640, 384)\n",
      "\n",
      "0: 640x384 1 pushrim, 84.8ms\n",
      "Speed: 5.0ms preprocess, 84.8ms inference, 0.0ms postprocess per image at shape (1, 3, 640, 384)\n",
      "\n",
      "0: 640x384 1 pushrim, 87.6ms\n",
      "Speed: 5.0ms preprocess, 87.6ms inference, 0.0ms postprocess per image at shape (1, 3, 640, 384)\n",
      "\n",
      "0: 640x384 1 pushrim, 76.1ms\n",
      "Speed: 2.0ms preprocess, 76.1ms inference, 7.6ms postprocess per image at shape (1, 3, 640, 384)\n",
      "\n",
      "0: 640x384 1 pushrim, 88.8ms\n",
      "Speed: 1.3ms preprocess, 88.8ms inference, 1.7ms postprocess per image at shape (1, 3, 640, 384)\n",
      "\n",
      "0: 640x384 1 pushrim, 86.8ms\n",
      "Speed: 0.0ms preprocess, 86.8ms inference, 0.8ms postprocess per image at shape (1, 3, 640, 384)\n",
      "\n",
      "0: 640x384 (no detections), 91.8ms\n",
      "Speed: 0.0ms preprocess, 91.8ms inference, 0.0ms postprocess per image at shape (1, 3, 640, 384)\n",
      "\n",
      "0: 640x384 1 pushrim, 88.9ms\n",
      "Speed: 1.1ms preprocess, 88.9ms inference, 0.6ms postprocess per image at shape (1, 3, 640, 384)\n",
      "\n",
      "0: 640x384 1 pushrim, 78.8ms\n",
      "Speed: 0.0ms preprocess, 78.8ms inference, 8.7ms postprocess per image at shape (1, 3, 640, 384)\n",
      "\n",
      "0: 640x384 1 pushrim, 77.6ms\n",
      "Speed: 2.5ms preprocess, 77.6ms inference, 0.0ms postprocess per image at shape (1, 3, 640, 384)\n",
      "\n",
      "0: 640x384 (no detections), 79.9ms\n",
      "Speed: 10.5ms preprocess, 79.9ms inference, 0.0ms postprocess per image at shape (1, 3, 640, 384)\n",
      "\n",
      "0: 640x384 (no detections), 85.4ms\n",
      "Speed: 0.0ms preprocess, 85.4ms inference, 0.0ms postprocess per image at shape (1, 3, 640, 384)\n",
      "\n",
      "0: 640x384 (no detections), 83.9ms\n",
      "Speed: 5.5ms preprocess, 83.9ms inference, 0.0ms postprocess per image at shape (1, 3, 640, 384)\n",
      "\n",
      "0: 640x384 (no detections), 83.8ms\n",
      "Speed: 2.6ms preprocess, 83.8ms inference, 0.0ms postprocess per image at shape (1, 3, 640, 384)\n",
      "\n",
      "0: 640x384 (no detections), 86.8ms\n",
      "Speed: 5.0ms preprocess, 86.8ms inference, 0.0ms postprocess per image at shape (1, 3, 640, 384)\n",
      "\n",
      "0: 640x384 1 pushrim, 105.2ms\n",
      "Speed: 0.0ms preprocess, 105.2ms inference, 0.0ms postprocess per image at shape (1, 3, 640, 384)\n",
      "\n",
      "0: 640x384 1 pushrim, 84.9ms\n",
      "Speed: 3.2ms preprocess, 84.9ms inference, 0.0ms postprocess per image at shape (1, 3, 640, 384)\n",
      "\n",
      "0: 640x384 1 pushrim, 84.8ms\n",
      "Speed: 5.0ms preprocess, 84.8ms inference, 0.0ms postprocess per image at shape (1, 3, 640, 384)\n",
      "\n",
      "0: 640x384 1 pushrim, 77.8ms\n",
      "Speed: 2.2ms preprocess, 77.8ms inference, 0.0ms postprocess per image at shape (1, 3, 640, 384)\n",
      "\n",
      "0: 640x384 1 pushrim, 92.1ms\n",
      "Speed: 0.0ms preprocess, 92.1ms inference, 0.0ms postprocess per image at shape (1, 3, 640, 384)\n",
      "\n",
      "0: 640x384 1 pushrim, 84.7ms\n",
      "Speed: 0.0ms preprocess, 84.7ms inference, 10.0ms postprocess per image at shape (1, 3, 640, 384)\n",
      "\n",
      "0: 640x384 1 pushrim, 87.6ms\n",
      "Speed: 1.6ms preprocess, 87.6ms inference, 0.0ms postprocess per image at shape (1, 3, 640, 384)\n",
      "\n",
      "0: 640x384 1 pushrim, 90.0ms\n",
      "Speed: 0.0ms preprocess, 90.0ms inference, 6.1ms postprocess per image at shape (1, 3, 640, 384)\n",
      "\n",
      "0: 640x384 2 pushrims, 84.2ms\n",
      "Speed: 1.3ms preprocess, 84.2ms inference, 0.0ms postprocess per image at shape (1, 3, 640, 384)\n",
      "\n",
      "0: 640x384 2 pushrims, 90.1ms\n",
      "Speed: 8.4ms preprocess, 90.1ms inference, 0.0ms postprocess per image at shape (1, 3, 640, 384)\n",
      "\n",
      "0: 640x384 2 pushrims, 95.5ms\n",
      "Speed: 0.0ms preprocess, 95.5ms inference, 4.5ms postprocess per image at shape (1, 3, 640, 384)\n",
      "\n",
      "0: 640x384 2 pushrims, 88.5ms\n",
      "Speed: 1.6ms preprocess, 88.5ms inference, 0.0ms postprocess per image at shape (1, 3, 640, 384)\n",
      "\n",
      "0: 640x384 2 pushrims, 88.4ms\n",
      "Speed: 0.0ms preprocess, 88.4ms inference, 0.0ms postprocess per image at shape (1, 3, 640, 384)\n",
      "\n",
      "0: 640x384 2 pushrims, 105.6ms\n",
      "Speed: 4.7ms preprocess, 105.6ms inference, 1.1ms postprocess per image at shape (1, 3, 640, 384)\n",
      "\n",
      "0: 640x384 3 pushrims, 96.9ms\n",
      "Speed: 3.5ms preprocess, 96.9ms inference, 0.0ms postprocess per image at shape (1, 3, 640, 384)\n",
      "\n",
      "0: 640x384 2 pushrims, 100.3ms\n",
      "Speed: 1.0ms preprocess, 100.3ms inference, 0.0ms postprocess per image at shape (1, 3, 640, 384)\n",
      "\n",
      "0: 640x384 2 pushrims, 95.7ms\n",
      "Speed: 3.2ms preprocess, 95.7ms inference, 0.0ms postprocess per image at shape (1, 3, 640, 384)\n",
      "\n",
      "0: 640x384 2 pushrims, 118.9ms\n",
      "Speed: 0.0ms preprocess, 118.9ms inference, 1.0ms postprocess per image at shape (1, 3, 640, 384)\n",
      "\n",
      "0: 640x384 2 pushrims, 98.1ms\n",
      "Speed: 3.2ms preprocess, 98.1ms inference, 0.0ms postprocess per image at shape (1, 3, 640, 384)\n",
      "\n",
      "0: 640x384 2 pushrims, 95.7ms\n",
      "Speed: 4.8ms preprocess, 95.7ms inference, 0.0ms postprocess per image at shape (1, 3, 640, 384)\n",
      "\n",
      "0: 640x384 2 pushrims, 94.6ms\n",
      "Speed: 1.9ms preprocess, 94.6ms inference, 0.0ms postprocess per image at shape (1, 3, 640, 384)\n",
      "\n",
      "0: 640x384 2 pushrims, 95.3ms\n",
      "Speed: 2.9ms preprocess, 95.3ms inference, 1.5ms postprocess per image at shape (1, 3, 640, 384)\n",
      "\n",
      "0: 640x384 2 pushrims, 95.7ms\n",
      "Speed: 3.5ms preprocess, 95.7ms inference, 1.9ms postprocess per image at shape (1, 3, 640, 384)\n",
      "\n",
      "0: 640x384 2 pushrims, 106.8ms\n",
      "Speed: 7.9ms preprocess, 106.8ms inference, 0.0ms postprocess per image at shape (1, 3, 640, 384)\n",
      "\n",
      "0: 640x384 2 pushrims, 90.9ms\n",
      "Speed: 6.4ms preprocess, 90.9ms inference, 0.4ms postprocess per image at shape (1, 3, 640, 384)\n",
      "\n",
      "0: 640x384 2 pushrims, 90.6ms\n",
      "Speed: 2.8ms preprocess, 90.6ms inference, 1.1ms postprocess per image at shape (1, 3, 640, 384)\n",
      "\n",
      "0: 640x384 2 pushrims, 86.0ms\n",
      "Speed: 0.0ms preprocess, 86.0ms inference, 0.0ms postprocess per image at shape (1, 3, 640, 384)\n",
      "\n",
      "0: 640x384 2 pushrims, 85.3ms\n",
      "Speed: 3.0ms preprocess, 85.3ms inference, 0.0ms postprocess per image at shape (1, 3, 640, 384)\n",
      "\n",
      "0: 640x384 2 pushrims, 95.5ms\n",
      "Speed: 0.0ms preprocess, 95.5ms inference, 1.0ms postprocess per image at shape (1, 3, 640, 384)\n",
      "\n",
      "0: 640x384 2 pushrims, 89.9ms\n",
      "Speed: 2.1ms preprocess, 89.9ms inference, 0.0ms postprocess per image at shape (1, 3, 640, 384)\n",
      "\n",
      "0: 640x384 2 pushrims, 85.6ms\n",
      "Speed: 4.2ms preprocess, 85.6ms inference, 0.0ms postprocess per image at shape (1, 3, 640, 384)\n",
      "\n",
      "0: 640x384 2 pushrims, 91.5ms\n",
      "Speed: 0.0ms preprocess, 91.5ms inference, 0.3ms postprocess per image at shape (1, 3, 640, 384)\n",
      "\n",
      "0: 640x384 2 pushrims, 86.3ms\n",
      "Speed: 1.8ms preprocess, 86.3ms inference, 0.0ms postprocess per image at shape (1, 3, 640, 384)\n",
      "\n",
      "0: 640x384 2 pushrims, 83.2ms\n",
      "Speed: 2.7ms preprocess, 83.2ms inference, 0.0ms postprocess per image at shape (1, 3, 640, 384)\n",
      "\n",
      "0: 640x384 2 pushrims, 84.4ms\n",
      "Speed: 5.4ms preprocess, 84.4ms inference, 0.0ms postprocess per image at shape (1, 3, 640, 384)\n",
      "\n",
      "0: 640x384 2 pushrims, 87.5ms\n",
      "Speed: 4.9ms preprocess, 87.5ms inference, 0.0ms postprocess per image at shape (1, 3, 640, 384)\n",
      "\n",
      "0: 640x384 2 pushrims, 91.7ms\n",
      "Speed: 0.0ms preprocess, 91.7ms inference, 0.0ms postprocess per image at shape (1, 3, 640, 384)\n",
      "\n",
      "0: 640x384 3 pushrims, 81.9ms\n",
      "Speed: 1.6ms preprocess, 81.9ms inference, 0.0ms postprocess per image at shape (1, 3, 640, 384)\n",
      "\n",
      "0: 640x384 3 pushrims, 83.7ms\n",
      "Speed: 2.2ms preprocess, 83.7ms inference, 0.0ms postprocess per image at shape (1, 3, 640, 384)\n",
      "\n",
      "0: 640x384 3 pushrims, 83.3ms\n",
      "Speed: 5.2ms preprocess, 83.3ms inference, 1.6ms postprocess per image at shape (1, 3, 640, 384)\n",
      "\n",
      "0: 640x384 3 pushrims, 86.9ms\n",
      "Speed: 0.0ms preprocess, 86.9ms inference, 3.5ms postprocess per image at shape (1, 3, 640, 384)\n",
      "\n",
      "0: 640x384 3 pushrims, 89.5ms\n",
      "Speed: 1.8ms preprocess, 89.5ms inference, 0.2ms postprocess per image at shape (1, 3, 640, 384)\n",
      "\n",
      "0: 640x384 2 pushrims, 78.7ms\n",
      "Speed: 5.0ms preprocess, 78.7ms inference, 6.6ms postprocess per image at shape (1, 3, 640, 384)\n",
      "\n",
      "0: 640x384 2 pushrims, 81.3ms\n",
      "Speed: 0.0ms preprocess, 81.3ms inference, 0.0ms postprocess per image at shape (1, 3, 640, 384)\n",
      "\n",
      "0: 640x384 2 pushrims, 83.2ms\n",
      "Speed: 6.3ms preprocess, 83.2ms inference, 0.0ms postprocess per image at shape (1, 3, 640, 384)\n",
      "\n",
      "0: 640x384 2 pushrims, 97.7ms\n",
      "Speed: 2.8ms preprocess, 97.7ms inference, 0.0ms postprocess per image at shape (1, 3, 640, 384)\n",
      "\n",
      "0: 640x384 3 pushrims, 123.4ms\n",
      "Speed: 2.0ms preprocess, 123.4ms inference, 0.0ms postprocess per image at shape (1, 3, 640, 384)\n",
      "\n",
      "0: 640x384 2 pushrims, 81.8ms\n",
      "Speed: 1.6ms preprocess, 81.8ms inference, 1.5ms postprocess per image at shape (1, 3, 640, 384)\n",
      "\n",
      "0: 640x384 3 pushrims, 88.5ms\n",
      "Speed: 1.5ms preprocess, 88.5ms inference, 0.0ms postprocess per image at shape (1, 3, 640, 384)\n",
      "\n",
      "0: 640x384 3 pushrims, 84.3ms\n",
      "Speed: 1.6ms preprocess, 84.3ms inference, 1.6ms postprocess per image at shape (1, 3, 640, 384)\n",
      "\n",
      "0: 640x384 2 pushrims, 84.0ms\n",
      "Speed: 2.1ms preprocess, 84.0ms inference, 0.0ms postprocess per image at shape (1, 3, 640, 384)\n",
      "\n",
      "0: 640x384 2 pushrims, 83.4ms\n",
      "Speed: 1.0ms preprocess, 83.4ms inference, 0.0ms postprocess per image at shape (1, 3, 640, 384)\n",
      "\n",
      "0: 640x384 2 pushrims, 82.7ms\n",
      "Speed: 8.1ms preprocess, 82.7ms inference, 0.0ms postprocess per image at shape (1, 3, 640, 384)\n",
      "\n",
      "0: 640x384 2 pushrims, 86.9ms\n",
      "Speed: 0.2ms preprocess, 86.9ms inference, 0.0ms postprocess per image at shape (1, 3, 640, 384)\n",
      "\n",
      "0: 640x384 2 pushrims, 81.4ms\n",
      "Speed: 2.2ms preprocess, 81.4ms inference, 0.0ms postprocess per image at shape (1, 3, 640, 384)\n",
      "\n",
      "0: 640x384 2 pushrims, 91.8ms\n",
      "Speed: 0.0ms preprocess, 91.8ms inference, 0.0ms postprocess per image at shape (1, 3, 640, 384)\n",
      "\n",
      "0: 640x384 2 pushrims, 82.5ms\n",
      "Speed: 3.2ms preprocess, 82.5ms inference, 0.0ms postprocess per image at shape (1, 3, 640, 384)\n",
      "\n",
      "0: 640x384 2 pushrims, 108.1ms\n",
      "Speed: 5.1ms preprocess, 108.1ms inference, 0.0ms postprocess per image at shape (1, 3, 640, 384)\n",
      "\n",
      "0: 640x384 2 pushrims, 79.5ms\n",
      "Speed: 3.6ms preprocess, 79.5ms inference, 4.6ms postprocess per image at shape (1, 3, 640, 384)\n",
      "\n",
      "0: 640x384 2 pushrims, 83.3ms\n",
      "Speed: 0.9ms preprocess, 83.3ms inference, 0.0ms postprocess per image at shape (1, 3, 640, 384)\n",
      "\n",
      "0: 640x384 2 pushrims, 80.8ms\n",
      "Speed: 8.2ms preprocess, 80.8ms inference, 2.9ms postprocess per image at shape (1, 3, 640, 384)\n",
      "\n",
      "0: 640x384 3 pushrims, 82.7ms\n",
      "Speed: 3.1ms preprocess, 82.7ms inference, 1.7ms postprocess per image at shape (1, 3, 640, 384)\n",
      "\n",
      "0: 640x384 2 pushrims, 86.5ms\n",
      "Speed: 2.4ms preprocess, 86.5ms inference, 0.0ms postprocess per image at shape (1, 3, 640, 384)\n",
      "\n",
      "0: 640x384 2 pushrims, 88.7ms\n",
      "Speed: 0.0ms preprocess, 88.7ms inference, 1.0ms postprocess per image at shape (1, 3, 640, 384)\n",
      "\n",
      "0: 640x384 3 pushrims, 85.5ms\n",
      "Speed: 2.1ms preprocess, 85.5ms inference, 3.9ms postprocess per image at shape (1, 3, 640, 384)\n",
      "\n",
      "0: 640x384 2 pushrims, 87.7ms\n",
      "Speed: 0.0ms preprocess, 87.7ms inference, 0.5ms postprocess per image at shape (1, 3, 640, 384)\n",
      "\n",
      "0: 640x384 2 pushrims, 81.7ms\n",
      "Speed: 2.9ms preprocess, 81.7ms inference, 0.0ms postprocess per image at shape (1, 3, 640, 384)\n",
      "\n",
      "0: 640x384 2 pushrims, 84.9ms\n",
      "Speed: 7.9ms preprocess, 84.9ms inference, 0.0ms postprocess per image at shape (1, 3, 640, 384)\n",
      "\n",
      "0: 640x384 2 pushrims, 84.5ms\n",
      "Speed: 5.4ms preprocess, 84.5ms inference, 0.0ms postprocess per image at shape (1, 3, 640, 384)\n",
      "\n",
      "0: 640x384 2 pushrims, 108.4ms\n",
      "Speed: 3.6ms preprocess, 108.4ms inference, 0.0ms postprocess per image at shape (1, 3, 640, 384)\n",
      "\n",
      "0: 640x384 2 pushrims, 84.7ms\n",
      "Speed: 0.0ms preprocess, 84.7ms inference, 5.4ms postprocess per image at shape (1, 3, 640, 384)\n",
      "\n",
      "0: 640x384 2 pushrims, 87.7ms\n",
      "Speed: 3.4ms preprocess, 87.7ms inference, 0.3ms postprocess per image at shape (1, 3, 640, 384)\n",
      "\n",
      "0: 640x384 2 pushrims, 86.5ms\n",
      "Speed: 2.1ms preprocess, 86.5ms inference, 0.0ms postprocess per image at shape (1, 3, 640, 384)\n",
      "\n",
      "0: 640x384 2 pushrims, 83.2ms\n",
      "Speed: 2.3ms preprocess, 83.2ms inference, 0.0ms postprocess per image at shape (1, 3, 640, 384)\n",
      "\n",
      "0: 640x384 2 pushrims, 83.6ms\n",
      "Speed: 3.0ms preprocess, 83.6ms inference, 0.0ms postprocess per image at shape (1, 3, 640, 384)\n",
      "\n",
      "0: 640x384 2 pushrims, 96.5ms\n",
      "Speed: 16.3ms preprocess, 96.5ms inference, 0.0ms postprocess per image at shape (1, 3, 640, 384)\n",
      "\n",
      "0: 640x384 2 pushrims, 85.2ms\n",
      "Speed: 3.7ms preprocess, 85.2ms inference, 0.0ms postprocess per image at shape (1, 3, 640, 384)\n",
      "\n",
      "0: 640x384 2 pushrims, 96.7ms\n",
      "Speed: 0.0ms preprocess, 96.7ms inference, 0.0ms postprocess per image at shape (1, 3, 640, 384)\n",
      "\n",
      "0: 640x384 2 pushrims, 85.6ms\n",
      "Speed: 2.3ms preprocess, 85.6ms inference, 3.9ms postprocess per image at shape (1, 3, 640, 384)\n",
      "\n",
      "0: 640x384 3 pushrims, 82.5ms\n",
      "Speed: 3.5ms preprocess, 82.5ms inference, 2.3ms postprocess per image at shape (1, 3, 640, 384)\n",
      "\n",
      "0: 640x384 2 pushrims, 84.8ms\n",
      "Speed: 0.2ms preprocess, 84.8ms inference, 0.0ms postprocess per image at shape (1, 3, 640, 384)\n",
      "\n",
      "0: 640x384 2 pushrims, 96.7ms\n",
      "Speed: 3.2ms preprocess, 96.7ms inference, 0.0ms postprocess per image at shape (1, 3, 640, 384)\n",
      "\n",
      "0: 640x384 2 pushrims, 87.0ms\n",
      "Speed: 4.7ms preprocess, 87.0ms inference, 0.0ms postprocess per image at shape (1, 3, 640, 384)\n",
      "\n",
      "0: 640x384 2 pushrims, 83.7ms\n",
      "Speed: 0.5ms preprocess, 83.7ms inference, 4.6ms postprocess per image at shape (1, 3, 640, 384)\n",
      "\n",
      "0: 640x384 2 pushrims, 85.6ms\n",
      "Speed: 0.0ms preprocess, 85.6ms inference, 0.0ms postprocess per image at shape (1, 3, 640, 384)\n",
      "\n",
      "0: 640x384 2 pushrims, 82.3ms\n",
      "Speed: 4.9ms preprocess, 82.3ms inference, 0.0ms postprocess per image at shape (1, 3, 640, 384)\n",
      "\n",
      "0: 640x384 2 pushrims, 88.8ms\n",
      "Speed: 0.0ms preprocess, 88.8ms inference, 1.1ms postprocess per image at shape (1, 3, 640, 384)\n",
      "\n",
      "0: 640x384 2 pushrims, 81.9ms\n",
      "Speed: 1.7ms preprocess, 81.9ms inference, 0.0ms postprocess per image at shape (1, 3, 640, 384)\n",
      "\n",
      "0: 640x384 3 pushrims, 81.4ms\n",
      "Speed: 2.2ms preprocess, 81.4ms inference, 0.0ms postprocess per image at shape (1, 3, 640, 384)\n",
      "\n",
      "0: 640x384 2 pushrims, 79.7ms\n",
      "Speed: 4.0ms preprocess, 79.7ms inference, 0.0ms postprocess per image at shape (1, 3, 640, 384)\n",
      "\n",
      "0: 640x384 3 pushrims, 108.3ms\n",
      "Speed: 4.5ms preprocess, 108.3ms inference, 0.0ms postprocess per image at shape (1, 3, 640, 384)\n",
      "\n",
      "0: 640x384 2 pushrims, 76.6ms\n",
      "Speed: 1.6ms preprocess, 76.6ms inference, 8.0ms postprocess per image at shape (1, 3, 640, 384)\n",
      "\n",
      "0: 640x384 2 pushrims, 77.5ms\n",
      "Speed: 1.7ms preprocess, 77.5ms inference, 8.4ms postprocess per image at shape (1, 3, 640, 384)\n",
      "\n",
      "0: 640x384 2 pushrims, 80.1ms\n",
      "Speed: 3.8ms preprocess, 80.1ms inference, 0.0ms postprocess per image at shape (1, 3, 640, 384)\n",
      "\n",
      "0: 640x384 2 pushrims, 1 castor, 85.8ms\n",
      "Speed: 4.3ms preprocess, 85.8ms inference, 0.0ms postprocess per image at shape (1, 3, 640, 384)\n",
      "\n",
      "0: 640x384 2 pushrims, 91.6ms\n",
      "Speed: 2.5ms preprocess, 91.6ms inference, 0.0ms postprocess per image at shape (1, 3, 640, 384)\n",
      "\n",
      "0: 640x384 2 pushrims, 89.7ms\n",
      "Speed: 0.0ms preprocess, 89.7ms inference, 0.2ms postprocess per image at shape (1, 3, 640, 384)\n",
      "\n",
      "0: 640x384 2 pushrims, 77.0ms\n",
      "Speed: 3.3ms preprocess, 77.0ms inference, 8.2ms postprocess per image at shape (1, 3, 640, 384)\n",
      "\n",
      "0: 640x384 2 pushrims, 80.1ms\n",
      "Speed: 2.6ms preprocess, 80.1ms inference, 0.0ms postprocess per image at shape (1, 3, 640, 384)\n",
      "\n",
      "0: 640x384 2 pushrims, 84.5ms\n",
      "Speed: 5.7ms preprocess, 84.5ms inference, 5.0ms postprocess per image at shape (1, 3, 640, 384)\n",
      "\n",
      "0: 640x384 2 pushrims, 85.7ms\n",
      "Speed: 3.9ms preprocess, 85.7ms inference, 0.0ms postprocess per image at shape (1, 3, 640, 384)\n",
      "\n",
      "0: 640x384 2 pushrims, 83.4ms\n",
      "Speed: 2.2ms preprocess, 83.4ms inference, 0.0ms postprocess per image at shape (1, 3, 640, 384)\n",
      "\n",
      "0: 640x384 2 pushrims, 87.5ms\n",
      "Speed: 8.0ms preprocess, 87.5ms inference, 0.2ms postprocess per image at shape (1, 3, 640, 384)\n",
      "\n",
      "0: 640x384 2 pushrims, 1 castor, 81.2ms\n",
      "Speed: 2.2ms preprocess, 81.2ms inference, 0.3ms postprocess per image at shape (1, 3, 640, 384)\n",
      "\n",
      "0: 640x384 2 pushrims, 80.0ms\n",
      "Speed: 1.8ms preprocess, 80.0ms inference, 0.0ms postprocess per image at shape (1, 3, 640, 384)\n",
      "\n",
      "0: 640x384 2 pushrims, 89.2ms\n",
      "Speed: 4.0ms preprocess, 89.2ms inference, 0.0ms postprocess per image at shape (1, 3, 640, 384)\n",
      "\n",
      "0: 640x384 2 pushrims, 85.4ms\n",
      "Speed: 3.3ms preprocess, 85.4ms inference, 0.0ms postprocess per image at shape (1, 3, 640, 384)\n",
      "\n",
      "0: 640x384 2 pushrims, 83.4ms\n",
      "Speed: 1.9ms preprocess, 83.4ms inference, 0.0ms postprocess per image at shape (1, 3, 640, 384)\n",
      "\n",
      "0: 640x384 2 pushrims, 83.0ms\n",
      "Speed: 8.5ms preprocess, 83.0ms inference, 6.5ms postprocess per image at shape (1, 3, 640, 384)\n",
      "\n",
      "0: 640x384 2 pushrims, 1 castor, 110.0ms\n",
      "Speed: 1.5ms preprocess, 110.0ms inference, 5.4ms postprocess per image at shape (1, 3, 640, 384)\n",
      "\n",
      "0: 640x384 2 pushrims, 142.2ms\n",
      "Speed: 3.1ms preprocess, 142.2ms inference, 2.9ms postprocess per image at shape (1, 3, 640, 384)\n",
      "\n",
      "0: 640x384 2 pushrims, 93.7ms\n",
      "Speed: 3.7ms preprocess, 93.7ms inference, 1.5ms postprocess per image at shape (1, 3, 640, 384)\n",
      "\n",
      "0: 640x384 2 pushrims, 92.4ms\n",
      "Speed: 2.5ms preprocess, 92.4ms inference, 0.0ms postprocess per image at shape (1, 3, 640, 384)\n",
      "\n",
      "0: 640x384 2 pushrims, 87.3ms\n",
      "Speed: 3.9ms preprocess, 87.3ms inference, 0.0ms postprocess per image at shape (1, 3, 640, 384)\n",
      "\n",
      "0: 640x384 2 pushrims, 89.7ms\n",
      "Speed: 0.0ms preprocess, 89.7ms inference, 6.7ms postprocess per image at shape (1, 3, 640, 384)\n",
      "\n",
      "0: 640x384 2 pushrims, 86.2ms\n",
      "Speed: 3.3ms preprocess, 86.2ms inference, 0.0ms postprocess per image at shape (1, 3, 640, 384)\n",
      "\n",
      "0: 640x384 2 pushrims, 1 castor, 85.6ms\n",
      "Speed: 3.2ms preprocess, 85.6ms inference, 0.0ms postprocess per image at shape (1, 3, 640, 384)\n",
      "\n",
      "0: 640x384 2 pushrims, 2 castors, 93.6ms\n",
      "Speed: 0.0ms preprocess, 93.6ms inference, 1.6ms postprocess per image at shape (1, 3, 640, 384)\n",
      "\n",
      "0: 640x384 3 pushrims, 1 castor, 88.3ms\n",
      "Speed: 2.0ms preprocess, 88.3ms inference, 0.0ms postprocess per image at shape (1, 3, 640, 384)\n",
      "\n",
      "0: 640x384 4 pushrims, 80.3ms\n",
      "Speed: 1.7ms preprocess, 80.3ms inference, 0.0ms postprocess per image at shape (1, 3, 640, 384)\n",
      "\n",
      "0: 640x384 4 pushrims, 84.1ms\n",
      "Speed: 0.0ms preprocess, 84.1ms inference, 0.0ms postprocess per image at shape (1, 3, 640, 384)\n",
      "\n",
      "0: 640x384 4 pushrims, 1 castor, 76.9ms\n",
      "Speed: 3.5ms preprocess, 76.9ms inference, 6.6ms postprocess per image at shape (1, 3, 640, 384)\n",
      "\n",
      "0: 640x384 4 pushrims, 2 castors, 85.1ms\n",
      "Speed: 0.0ms preprocess, 85.1ms inference, 3.0ms postprocess per image at shape (1, 3, 640, 384)\n",
      "\n",
      "0: 640x384 5 pushrims, 2 castors, 84.4ms\n",
      "Speed: 0.0ms preprocess, 84.4ms inference, 1.1ms postprocess per image at shape (1, 3, 640, 384)\n",
      "\n",
      "0: 640x384 5 pushrims, 1 castor, 80.1ms\n",
      "Speed: 0.0ms preprocess, 80.1ms inference, 0.0ms postprocess per image at shape (1, 3, 640, 384)\n",
      "\n",
      "0: 640x384 5 pushrims, 1 castor, 81.4ms\n",
      "Speed: 0.0ms preprocess, 81.4ms inference, 0.0ms postprocess per image at shape (1, 3, 640, 384)\n",
      "\n",
      "0: 640x384 5 pushrims, 1 castor, 93.7ms\n",
      "Speed: 8.3ms preprocess, 93.7ms inference, 1.1ms postprocess per image at shape (1, 3, 640, 384)\n",
      "\n",
      "0: 640x384 4 pushrims, 1 castor, 77.1ms\n",
      "Speed: 3.1ms preprocess, 77.1ms inference, 0.0ms postprocess per image at shape (1, 3, 640, 384)\n",
      "\n",
      "0: 640x384 6 pushrims, 1 castor, 83.7ms\n",
      "Speed: 0.0ms preprocess, 83.7ms inference, 1.1ms postprocess per image at shape (1, 3, 640, 384)\n",
      "\n",
      "0: 640x384 4 pushrims, 1 castor, 80.7ms\n",
      "Speed: 2.1ms preprocess, 80.7ms inference, 0.0ms postprocess per image at shape (1, 3, 640, 384)\n",
      "\n",
      "0: 640x384 4 pushrims, 1 castor, 107.5ms\n",
      "Speed: 0.0ms preprocess, 107.5ms inference, 2.6ms postprocess per image at shape (1, 3, 640, 384)\n",
      "\n",
      "0: 640x384 3 pushrims, 3 castors, 82.4ms\n",
      "Speed: 0.0ms preprocess, 82.4ms inference, 0.0ms postprocess per image at shape (1, 3, 640, 384)\n",
      "\n",
      "0: 640x384 2 pushrims, 3 castors, 82.0ms\n",
      "Speed: 0.0ms preprocess, 82.0ms inference, 1.3ms postprocess per image at shape (1, 3, 640, 384)\n",
      "\n",
      "0: 640x384 2 pushrims, 2 castors, 86.6ms\n",
      "Speed: 3.4ms preprocess, 86.6ms inference, 0.9ms postprocess per image at shape (1, 3, 640, 384)\n",
      "\n",
      "0: 640x384 2 pushrims, 3 castors, 78.5ms\n",
      "Speed: 3.4ms preprocess, 78.5ms inference, 0.0ms postprocess per image at shape (1, 3, 640, 384)\n",
      "\n",
      "0: 640x384 2 pushrims, 4 castors, 76.1ms\n",
      "Speed: 0.0ms preprocess, 76.1ms inference, 0.0ms postprocess per image at shape (1, 3, 640, 384)\n",
      "\n",
      "0: 640x384 2 pushrims, 3 castors, 81.5ms\n",
      "Speed: 0.0ms preprocess, 81.5ms inference, 0.0ms postprocess per image at shape (1, 3, 640, 384)\n",
      "\n",
      "0: 640x384 2 pushrims, 3 castors, 78.9ms\n",
      "Speed: 1.7ms preprocess, 78.9ms inference, 2.1ms postprocess per image at shape (1, 3, 640, 384)\n",
      "\n",
      "0: 640x384 2 pushrims, 3 castors, 78.2ms\n",
      "Speed: 2.7ms preprocess, 78.2ms inference, 0.0ms postprocess per image at shape (1, 3, 640, 384)\n",
      "\n",
      "0: 640x384 3 pushrims, 3 castors, 87.8ms\n",
      "Speed: 1.8ms preprocess, 87.8ms inference, 2.1ms postprocess per image at shape (1, 3, 640, 384)\n",
      "\n",
      "0: 640x384 3 pushrims, 2 castors, 86.6ms\n",
      "Speed: 2.1ms preprocess, 86.6ms inference, 0.0ms postprocess per image at shape (1, 3, 640, 384)\n",
      "\n",
      "0: 640x384 3 pushrims, 1 castor, 80.3ms\n",
      "Speed: 0.0ms preprocess, 80.3ms inference, 0.0ms postprocess per image at shape (1, 3, 640, 384)\n",
      "\n",
      "0: 640x384 3 pushrims, 2 castors, 81.7ms\n",
      "Speed: 6.7ms preprocess, 81.7ms inference, 1.9ms postprocess per image at shape (1, 3, 640, 384)\n",
      "\n",
      "0: 640x384 3 pushrims, 2 castors, 96.8ms\n",
      "Speed: 3.0ms preprocess, 96.8ms inference, 6.0ms postprocess per image at shape (1, 3, 640, 384)\n",
      "\n",
      "0: 640x384 4 pushrims, 1 castor, 98.5ms\n",
      "Speed: 2.5ms preprocess, 98.5ms inference, 0.0ms postprocess per image at shape (1, 3, 640, 384)\n",
      "\n",
      "0: 640x384 3 pushrims, 2 castors, 89.9ms\n",
      "Speed: 5.4ms preprocess, 89.9ms inference, 0.0ms postprocess per image at shape (1, 3, 640, 384)\n",
      "\n",
      "0: 640x384 3 pushrims, 2 castors, 88.4ms\n",
      "Speed: 0.0ms preprocess, 88.4ms inference, 0.0ms postprocess per image at shape (1, 3, 640, 384)\n",
      "\n",
      "0: 640x384 3 pushrims, 2 castors, 89.8ms\n",
      "Speed: 0.0ms preprocess, 89.8ms inference, 1.7ms postprocess per image at shape (1, 3, 640, 384)\n",
      "\n",
      "0: 640x384 4 pushrims, 1 castor, 89.8ms\n",
      "Speed: 0.0ms preprocess, 89.8ms inference, 0.0ms postprocess per image at shape (1, 3, 640, 384)\n",
      "\n",
      "0: 640x384 4 pushrims, 2 castors, 110.4ms\n",
      "Speed: 3.4ms preprocess, 110.4ms inference, 0.0ms postprocess per image at shape (1, 3, 640, 384)\n",
      "\n",
      "0: 640x384 4 pushrims, 3 castors, 85.8ms\n",
      "Speed: 4.5ms preprocess, 85.8ms inference, 5.5ms postprocess per image at shape (1, 3, 640, 384)\n",
      "\n",
      "0: 640x384 4 pushrims, 2 castors, 88.5ms\n",
      "Speed: 5.0ms preprocess, 88.5ms inference, 2.1ms postprocess per image at shape (1, 3, 640, 384)\n",
      "\n",
      "0: 640x384 4 pushrims, 2 castors, 88.8ms\n",
      "Speed: 5.0ms preprocess, 88.8ms inference, 4.0ms postprocess per image at shape (1, 3, 640, 384)\n",
      "\n",
      "0: 640x384 3 pushrims, 1 castor, 85.4ms\n",
      "Speed: 2.6ms preprocess, 85.4ms inference, 0.0ms postprocess per image at shape (1, 3, 640, 384)\n",
      "\n",
      "0: 640x384 4 pushrims, 1 castor, 93.2ms\n",
      "Speed: 6.3ms preprocess, 93.2ms inference, 0.0ms postprocess per image at shape (1, 3, 640, 384)\n",
      "\n",
      "0: 640x384 4 pushrims, 1 castor, 86.7ms\n",
      "Speed: 0.0ms preprocess, 86.7ms inference, 0.0ms postprocess per image at shape (1, 3, 640, 384)\n",
      "\n",
      "0: 640x384 4 pushrims, 2 castors, 93.0ms\n",
      "Speed: 2.1ms preprocess, 93.0ms inference, 0.0ms postprocess per image at shape (1, 3, 640, 384)\n",
      "\n",
      "0: 640x384 4 pushrims, 1 castor, 91.0ms\n",
      "Speed: 0.0ms preprocess, 91.0ms inference, 0.0ms postprocess per image at shape (1, 3, 640, 384)\n",
      "\n",
      "0: 640x384 4 pushrims, 1 castor, 90.6ms\n",
      "Speed: 1.0ms preprocess, 90.6ms inference, 1.1ms postprocess per image at shape (1, 3, 640, 384)\n",
      "\n",
      "0: 640x384 4 pushrims, 1 castor, 87.5ms\n",
      "Speed: 2.0ms preprocess, 87.5ms inference, 0.3ms postprocess per image at shape (1, 3, 640, 384)\n",
      "\n",
      "0: 640x384 5 pushrims, 1 castor, 91.9ms\n",
      "Speed: 1.3ms preprocess, 91.9ms inference, 1.0ms postprocess per image at shape (1, 3, 640, 384)\n",
      "\n",
      "0: 640x384 4 pushrims, 2 castors, 85.0ms\n",
      "Speed: 5.1ms preprocess, 85.0ms inference, 8.3ms postprocess per image at shape (1, 3, 640, 384)\n",
      "\n",
      "0: 640x384 4 pushrims, 1 castor, 87.7ms\n",
      "Speed: 2.8ms preprocess, 87.7ms inference, 0.0ms postprocess per image at shape (1, 3, 640, 384)\n",
      "\n",
      "0: 640x384 4 pushrims, 1 castor, 88.0ms\n",
      "Speed: 2.6ms preprocess, 88.0ms inference, 1.0ms postprocess per image at shape (1, 3, 640, 384)\n",
      "\n",
      "0: 640x384 5 pushrims, 1 castor, 83.6ms\n",
      "Speed: 4.4ms preprocess, 83.6ms inference, 0.0ms postprocess per image at shape (1, 3, 640, 384)\n",
      "\n",
      "0: 640x384 5 pushrims, 1 castor, 83.0ms\n",
      "Speed: 2.8ms preprocess, 83.0ms inference, 8.0ms postprocess per image at shape (1, 3, 640, 384)\n",
      "\n",
      "0: 640x384 5 pushrims, 1 castor, 87.3ms\n",
      "Speed: 2.4ms preprocess, 87.3ms inference, 0.0ms postprocess per image at shape (1, 3, 640, 384)\n",
      "\n",
      "0: 640x384 5 pushrims, 1 castor, 75.6ms\n",
      "Speed: 4.0ms preprocess, 75.6ms inference, 0.0ms postprocess per image at shape (1, 3, 640, 384)\n",
      "\n",
      "0: 640x384 5 pushrims, 1 castor, 84.9ms\n",
      "Speed: 2.0ms preprocess, 84.9ms inference, 0.5ms postprocess per image at shape (1, 3, 640, 384)\n",
      "\n",
      "0: 640x384 4 pushrims, 2 castors, 83.3ms\n",
      "Speed: 4.0ms preprocess, 83.3ms inference, 0.0ms postprocess per image at shape (1, 3, 640, 384)\n",
      "\n",
      "0: 640x384 3 pushrims, 1 castor, 114.5ms\n",
      "Speed: 7.1ms preprocess, 114.5ms inference, 0.0ms postprocess per image at shape (1, 3, 640, 384)\n",
      "\n",
      "0: 640x384 4 pushrims, 1 castor, 94.1ms\n",
      "Speed: 0.0ms preprocess, 94.1ms inference, 0.0ms postprocess per image at shape (1, 3, 640, 384)\n",
      "\n",
      "0: 640x384 5 pushrims, 2 castors, 85.6ms\n",
      "Speed: 5.8ms preprocess, 85.6ms inference, 0.0ms postprocess per image at shape (1, 3, 640, 384)\n",
      "\n",
      "0: 640x384 5 pushrims, 2 castors, 98.1ms\n",
      "Speed: 4.7ms preprocess, 98.1ms inference, 1.1ms postprocess per image at shape (1, 3, 640, 384)\n",
      "\n",
      "0: 640x384 5 pushrims, 2 castors, 95.1ms\n",
      "Speed: 2.4ms preprocess, 95.1ms inference, 5.0ms postprocess per image at shape (1, 3, 640, 384)\n",
      "\n",
      "0: 640x384 5 pushrims, 2 castors, 85.9ms\n",
      "Speed: 6.9ms preprocess, 85.9ms inference, 2.1ms postprocess per image at shape (1, 3, 640, 384)\n",
      "\n",
      "0: 640x384 5 pushrims, 2 castors, 87.6ms\n",
      "Speed: 4.5ms preprocess, 87.6ms inference, 4.6ms postprocess per image at shape (1, 3, 640, 384)\n",
      "\n",
      "0: 640x384 4 pushrims, 2 castors, 82.7ms\n",
      "Speed: 2.9ms preprocess, 82.7ms inference, 0.0ms postprocess per image at shape (1, 3, 640, 384)\n",
      "\n",
      "0: 640x384 4 pushrims, 2 castors, 89.3ms\n",
      "Speed: 0.0ms preprocess, 89.3ms inference, 0.3ms postprocess per image at shape (1, 3, 640, 384)\n",
      "\n",
      "0: 640x384 4 pushrims, 1 castor, 86.7ms\n",
      "Speed: 5.5ms preprocess, 86.7ms inference, 0.0ms postprocess per image at shape (1, 3, 640, 384)\n",
      "\n",
      "0: 640x384 3 pushrims, 1 castor, 79.4ms\n",
      "Speed: 0.0ms preprocess, 79.4ms inference, 8.4ms postprocess per image at shape (1, 3, 640, 384)\n",
      "\n",
      "0: 640x384 3 pushrims, 2 castors, 84.7ms\n",
      "Speed: 2.9ms preprocess, 84.7ms inference, 0.0ms postprocess per image at shape (1, 3, 640, 384)\n",
      "\n",
      "0: 640x384 3 pushrims, 2 castors, 85.3ms\n",
      "Speed: 0.0ms preprocess, 85.3ms inference, 0.0ms postprocess per image at shape (1, 3, 640, 384)\n",
      "\n",
      "0: 640x384 3 pushrims, 1 castor, 83.3ms\n",
      "Speed: 2.9ms preprocess, 83.3ms inference, 0.0ms postprocess per image at shape (1, 3, 640, 384)\n",
      "\n",
      "0: 640x384 3 pushrims, 1 castor, 91.7ms\n",
      "Speed: 0.0ms preprocess, 91.7ms inference, 1.3ms postprocess per image at shape (1, 3, 640, 384)\n",
      "\n",
      "0: 640x384 3 pushrims, 1 castor, 92.3ms\n",
      "Speed: 0.5ms preprocess, 92.3ms inference, 0.0ms postprocess per image at shape (1, 3, 640, 384)\n",
      "\n",
      "0: 640x384 3 pushrims, 1 castor, 83.0ms\n",
      "Speed: 6.9ms preprocess, 83.0ms inference, 0.0ms postprocess per image at shape (1, 3, 640, 384)\n",
      "\n",
      "0: 640x384 3 pushrims, 1 castor, 91.9ms\n",
      "Speed: 4.9ms preprocess, 91.9ms inference, 0.0ms postprocess per image at shape (1, 3, 640, 384)\n",
      "\n",
      "0: 640x384 3 pushrims, 1 castor, 85.8ms\n",
      "Speed: 3.0ms preprocess, 85.8ms inference, 0.0ms postprocess per image at shape (1, 3, 640, 384)\n",
      "\n",
      "0: 640x384 3 pushrims, 1 castor, 116.0ms\n",
      "Speed: 0.0ms preprocess, 116.0ms inference, 0.4ms postprocess per image at shape (1, 3, 640, 384)\n",
      "\n",
      "0: 640x384 2 pushrims, 1 castor, 83.9ms\n",
      "Speed: 2.7ms preprocess, 83.9ms inference, 1.5ms postprocess per image at shape (1, 3, 640, 384)\n",
      "\n",
      "0: 640x384 3 pushrims, 1 castor, 82.1ms\n",
      "Speed: 2.3ms preprocess, 82.1ms inference, 4.4ms postprocess per image at shape (1, 3, 640, 384)\n",
      "\n",
      "0: 640x384 3 pushrims, 1 castor, 86.1ms\n",
      "Speed: 3.3ms preprocess, 86.1ms inference, 2.7ms postprocess per image at shape (1, 3, 640, 384)\n",
      "\n",
      "0: 640x384 2 pushrims, 1 castor, 86.0ms\n",
      "Speed: 2.5ms preprocess, 86.0ms inference, 0.0ms postprocess per image at shape (1, 3, 640, 384)\n",
      "\n",
      "0: 640x384 2 pushrims, 1 castor, 83.7ms\n",
      "Speed: 6.2ms preprocess, 83.7ms inference, 0.0ms postprocess per image at shape (1, 3, 640, 384)\n",
      "\n",
      "0: 640x384 2 pushrims, 1 castor, 89.8ms\n",
      "Speed: 0.0ms preprocess, 89.8ms inference, 0.0ms postprocess per image at shape (1, 3, 640, 384)\n",
      "\n",
      "0: 640x384 2 pushrims, 1 castor, 76.8ms\n",
      "Speed: 3.0ms preprocess, 76.8ms inference, 7.9ms postprocess per image at shape (1, 3, 640, 384)\n",
      "\n",
      "0: 640x384 2 pushrims, 1 castor, 87.2ms\n",
      "Speed: 2.2ms preprocess, 87.2ms inference, 0.0ms postprocess per image at shape (1, 3, 640, 384)\n",
      "\n",
      "0: 640x384 2 pushrims, 84.8ms\n",
      "Speed: 0.0ms preprocess, 84.8ms inference, 0.0ms postprocess per image at shape (1, 3, 640, 384)\n",
      "\n",
      "0: 640x384 2 pushrims, 1 castor, 79.9ms\n",
      "Speed: 2.9ms preprocess, 79.9ms inference, 7.5ms postprocess per image at shape (1, 3, 640, 384)\n",
      "\n",
      "0: 640x384 2 pushrims, 1 castor, 80.8ms\n",
      "Speed: 2.5ms preprocess, 80.8ms inference, 0.0ms postprocess per image at shape (1, 3, 640, 384)\n",
      "\n",
      "0: 640x384 2 pushrims, 1 castor, 84.0ms\n",
      "Speed: 0.0ms preprocess, 84.0ms inference, 0.0ms postprocess per image at shape (1, 3, 640, 384)\n",
      "\n",
      "0: 640x384 2 pushrims, 95.0ms\n",
      "Speed: 0.0ms preprocess, 95.0ms inference, 0.0ms postprocess per image at shape (1, 3, 640, 384)\n",
      "\n",
      "0: 640x384 2 pushrims, 84.7ms\n",
      "Speed: 0.0ms preprocess, 84.7ms inference, 3.8ms postprocess per image at shape (1, 3, 640, 384)\n",
      "\n",
      "0: 640x384 2 pushrims, 89.1ms\n",
      "Speed: 1.6ms preprocess, 89.1ms inference, 0.0ms postprocess per image at shape (1, 3, 640, 384)\n",
      "\n",
      "0: 640x384 3 pushrims, 74.0ms\n",
      "Speed: 7.1ms preprocess, 74.0ms inference, 7.7ms postprocess per image at shape (1, 3, 640, 384)\n",
      "\n",
      "0: 640x384 2 pushrims, 89.7ms\n",
      "Speed: 2.5ms preprocess, 89.7ms inference, 0.0ms postprocess per image at shape (1, 3, 640, 384)\n",
      "\n",
      "0: 640x384 2 pushrims, 104.0ms\n",
      "Speed: 4.4ms preprocess, 104.0ms inference, 0.0ms postprocess per image at shape (1, 3, 640, 384)\n",
      "\n",
      "0: 640x384 2 pushrims, 1 castor, 92.8ms\n",
      "Speed: 0.0ms preprocess, 92.8ms inference, 0.0ms postprocess per image at shape (1, 3, 640, 384)\n",
      "\n",
      "0: 640x384 2 pushrims, 1 castor, 100.2ms\n",
      "Speed: 2.0ms preprocess, 100.2ms inference, 0.0ms postprocess per image at shape (1, 3, 640, 384)\n",
      "\n",
      "0: 640x384 2 pushrims, 2 castors, 91.3ms\n",
      "Speed: 2.3ms preprocess, 91.3ms inference, 0.0ms postprocess per image at shape (1, 3, 640, 384)\n",
      "\n",
      "0: 640x384 2 pushrims, 2 castors, 93.6ms\n",
      "Speed: 1.6ms preprocess, 93.6ms inference, 0.8ms postprocess per image at shape (1, 3, 640, 384)\n",
      "\n",
      "0: 640x384 2 pushrims, 2 castors, 100.6ms\n",
      "Speed: 4.0ms preprocess, 100.6ms inference, 0.0ms postprocess per image at shape (1, 3, 640, 384)\n",
      "\n",
      "0: 640x384 3 pushrims, 1 castor, 88.2ms\n",
      "Speed: 2.5ms preprocess, 88.2ms inference, 0.0ms postprocess per image at shape (1, 3, 640, 384)\n",
      "\n",
      "0: 640x384 3 pushrims, 1 castor, 90.0ms\n",
      "Speed: 3.2ms preprocess, 90.0ms inference, 0.0ms postprocess per image at shape (1, 3, 640, 384)\n",
      "\n",
      "0: 640x384 3 pushrims, 1 castor, 97.6ms\n",
      "Speed: 6.5ms preprocess, 97.6ms inference, 0.0ms postprocess per image at shape (1, 3, 640, 384)\n",
      "\n",
      "0: 640x384 3 pushrims, 1 castor, 90.0ms\n",
      "Speed: 8.2ms preprocess, 90.0ms inference, 0.0ms postprocess per image at shape (1, 3, 640, 384)\n",
      "\n",
      "0: 640x384 3 pushrims, 2 castors, 76.9ms\n",
      "Speed: 3.2ms preprocess, 76.9ms inference, 0.0ms postprocess per image at shape (1, 3, 640, 384)\n",
      "\n",
      "0: 640x384 3 pushrims, 1 castor, 63.4ms\n",
      "Speed: 5.0ms preprocess, 63.4ms inference, 0.5ms postprocess per image at shape (1, 3, 640, 384)\n",
      "\n",
      "0: 640x384 3 pushrims, 50.0ms\n",
      "Speed: 2.5ms preprocess, 50.0ms inference, 0.0ms postprocess per image at shape (1, 3, 640, 384)\n",
      "\n",
      "0: 640x384 3 pushrims, 49.9ms\n",
      "Speed: 0.0ms preprocess, 49.9ms inference, 2.9ms postprocess per image at shape (1, 3, 640, 384)\n",
      "\n",
      "0: 640x384 3 pushrims, 50.9ms\n",
      "Speed: 0.0ms preprocess, 50.9ms inference, 0.0ms postprocess per image at shape (1, 3, 640, 384)\n",
      "\n",
      "0: 640x384 3 pushrims, 43.7ms\n",
      "Speed: 0.7ms preprocess, 43.7ms inference, 0.0ms postprocess per image at shape (1, 3, 640, 384)\n",
      "\n",
      "0: 640x384 2 pushrims, 46.5ms\n",
      "Speed: 3.5ms preprocess, 46.5ms inference, 0.0ms postprocess per image at shape (1, 3, 640, 384)\n",
      "\n",
      "0: 640x384 2 pushrims, 1 castor, 45.3ms\n",
      "Speed: 3.3ms preprocess, 45.3ms inference, 1.5ms postprocess per image at shape (1, 3, 640, 384)\n",
      "\n",
      "0: 640x384 2 pushrims, 1 castor, 39.7ms\n",
      "Speed: 0.7ms preprocess, 39.7ms inference, 7.0ms postprocess per image at shape (1, 3, 640, 384)\n",
      "\n",
      "0: 640x384 3 pushrims, 1 castor, 48.9ms\n",
      "Speed: 0.0ms preprocess, 48.9ms inference, 1.3ms postprocess per image at shape (1, 3, 640, 384)\n",
      "\n",
      "0: 640x384 3 pushrims, 1 castor, 66.4ms\n",
      "Speed: 0.0ms preprocess, 66.4ms inference, 0.0ms postprocess per image at shape (1, 3, 640, 384)\n",
      "\n",
      "0: 640x384 3 pushrims, 2 castors, 45.2ms\n",
      "Speed: 1.6ms preprocess, 45.2ms inference, 0.0ms postprocess per image at shape (1, 3, 640, 384)\n",
      "\n",
      "0: 640x384 3 pushrims, 1 castor, 38.0ms\n",
      "Speed: 1.5ms preprocess, 38.0ms inference, 0.0ms postprocess per image at shape (1, 3, 640, 384)\n",
      "\n",
      "0: 640x384 3 pushrims, 1 castor, 47.0ms\n",
      "Speed: 0.2ms preprocess, 47.0ms inference, 0.0ms postprocess per image at shape (1, 3, 640, 384)\n",
      "\n",
      "0: 640x384 3 pushrims, 1 castor, 46.0ms\n",
      "Speed: 1.7ms preprocess, 46.0ms inference, 0.0ms postprocess per image at shape (1, 3, 640, 384)\n",
      "\n",
      "0: 640x384 3 pushrims, 1 castor, 48.9ms\n",
      "Speed: 0.0ms preprocess, 48.9ms inference, 1.2ms postprocess per image at shape (1, 3, 640, 384)\n",
      "\n",
      "0: 640x384 3 pushrims, 1 castor, 50.5ms\n",
      "Speed: 0.0ms preprocess, 50.5ms inference, 0.0ms postprocess per image at shape (1, 3, 640, 384)\n",
      "\n",
      "0: 640x384 3 pushrims, 1 castor, 44.9ms\n",
      "Speed: 0.0ms preprocess, 44.9ms inference, 0.0ms postprocess per image at shape (1, 3, 640, 384)\n",
      "\n",
      "0: 640x384 3 pushrims, 1 castor, 40.4ms\n",
      "Speed: 3.7ms preprocess, 40.4ms inference, 0.0ms postprocess per image at shape (1, 3, 640, 384)\n",
      "\n",
      "0: 640x384 3 pushrims, 2 castors, 55.5ms\n",
      "Speed: 0.0ms preprocess, 55.5ms inference, 0.0ms postprocess per image at shape (1, 3, 640, 384)\n",
      "\n",
      "0: 640x384 3 pushrims, 1 castor, 50.1ms\n",
      "Speed: 0.0ms preprocess, 50.1ms inference, 0.0ms postprocess per image at shape (1, 3, 640, 384)\n",
      "\n",
      "0: 640x384 1 pushrim, 55.4ms\n",
      "Speed: 0.0ms preprocess, 55.4ms inference, 0.0ms postprocess per image at shape (1, 3, 640, 384)\n",
      "\n",
      "0: 640x384 2 pushrims, 47.1ms\n",
      "Speed: 4.3ms preprocess, 47.1ms inference, 1.1ms postprocess per image at shape (1, 3, 640, 384)\n",
      "\n",
      "0: 640x384 1 pushrim, 50.1ms\n",
      "Speed: 0.0ms preprocess, 50.1ms inference, 0.0ms postprocess per image at shape (1, 3, 640, 384)\n",
      "\n",
      "0: 640x384 1 pushrim, 54.1ms\n",
      "Speed: 0.0ms preprocess, 54.1ms inference, 0.0ms postprocess per image at shape (1, 3, 640, 384)\n",
      "\n",
      "0: 640x384 1 pushrim, 44.9ms\n",
      "Speed: 0.0ms preprocess, 44.9ms inference, 2.6ms postprocess per image at shape (1, 3, 640, 384)\n",
      "\n",
      "0: 640x384 1 pushrim, 49.9ms\n",
      "Speed: 1.5ms preprocess, 49.9ms inference, 0.0ms postprocess per image at shape (1, 3, 640, 384)\n",
      "\n",
      "0: 640x384 (no detections), 44.3ms\n",
      "Speed: 0.0ms preprocess, 44.3ms inference, 0.0ms postprocess per image at shape (1, 3, 640, 384)\n",
      "\n",
      "0: 640x384 (no detections), 41.6ms\n",
      "Speed: 0.0ms preprocess, 41.6ms inference, 0.0ms postprocess per image at shape (1, 3, 640, 384)\n",
      "\n",
      "0: 640x384 (no detections), 50.0ms\n",
      "Speed: 0.0ms preprocess, 50.0ms inference, 0.0ms postprocess per image at shape (1, 3, 640, 384)\n",
      "\n",
      "0: 640x384 (no detections), 64.2ms\n",
      "Speed: 0.0ms preprocess, 64.2ms inference, 0.0ms postprocess per image at shape (1, 3, 640, 384)\n",
      "\n",
      "0: 640x384 (no detections), 48.3ms\n",
      "Speed: 0.0ms preprocess, 48.3ms inference, 0.0ms postprocess per image at shape (1, 3, 640, 384)\n",
      "\n",
      "0: 640x384 (no detections), 48.5ms\n",
      "Speed: 0.0ms preprocess, 48.5ms inference, 0.7ms postprocess per image at shape (1, 3, 640, 384)\n",
      "\n",
      "0: 640x384 (no detections), 44.4ms\n",
      "Speed: 1.0ms preprocess, 44.4ms inference, 0.8ms postprocess per image at shape (1, 3, 640, 384)\n",
      "\n",
      "0: 640x384 (no detections), 41.3ms\n",
      "Speed: 4.0ms preprocess, 41.3ms inference, 1.0ms postprocess per image at shape (1, 3, 640, 384)\n",
      "\n",
      "0: 640x384 (no detections), 45.7ms\n",
      "Speed: 0.0ms preprocess, 45.7ms inference, 0.0ms postprocess per image at shape (1, 3, 640, 384)\n",
      "\n",
      "0: 640x384 (no detections), 37.7ms\n",
      "Speed: 2.0ms preprocess, 37.7ms inference, 0.0ms postprocess per image at shape (1, 3, 640, 384)\n",
      "\n",
      "0: 640x384 (no detections), 45.8ms\n",
      "Speed: 2.0ms preprocess, 45.8ms inference, 0.0ms postprocess per image at shape (1, 3, 640, 384)\n",
      "\n",
      "0: 640x384 (no detections), 46.0ms\n",
      "Speed: 3.8ms preprocess, 46.0ms inference, 0.0ms postprocess per image at shape (1, 3, 640, 384)\n",
      "\n",
      "0: 640x384 (no detections), 44.7ms\n",
      "Speed: 0.3ms preprocess, 44.7ms inference, 0.0ms postprocess per image at shape (1, 3, 640, 384)\n",
      "\n",
      "0: 640x384 (no detections), 45.8ms\n",
      "Speed: 4.2ms preprocess, 45.8ms inference, 0.0ms postprocess per image at shape (1, 3, 640, 384)\n",
      "\n",
      "0: 640x384 (no detections), 39.3ms\n",
      "Speed: 1.5ms preprocess, 39.3ms inference, 0.0ms postprocess per image at shape (1, 3, 640, 384)\n",
      "\n",
      "0: 640x384 (no detections), 45.7ms\n",
      "Speed: 1.0ms preprocess, 45.7ms inference, 0.0ms postprocess per image at shape (1, 3, 640, 384)\n",
      "\n",
      "0: 640x384 (no detections), 51.8ms\n",
      "Speed: 0.0ms preprocess, 51.8ms inference, 0.0ms postprocess per image at shape (1, 3, 640, 384)\n",
      "\n",
      "0: 640x384 (no detections), 41.9ms\n",
      "Speed: 5.4ms preprocess, 41.9ms inference, 1.0ms postprocess per image at shape (1, 3, 640, 384)\n",
      "\n",
      "0: 640x384 (no detections), 45.5ms\n",
      "Speed: 0.0ms preprocess, 45.5ms inference, 0.0ms postprocess per image at shape (1, 3, 640, 384)\n",
      "\n",
      "0: 640x384 (no detections), 43.9ms\n",
      "Speed: 0.0ms preprocess, 43.9ms inference, 0.0ms postprocess per image at shape (1, 3, 640, 384)\n",
      "\n",
      "0: 640x384 (no detections), 44.6ms\n",
      "Speed: 8.2ms preprocess, 44.6ms inference, 1.0ms postprocess per image at shape (1, 3, 640, 384)\n",
      "\n",
      "0: 640x384 (no detections), 60.1ms\n",
      "Speed: 1.5ms preprocess, 60.1ms inference, 0.0ms postprocess per image at shape (1, 3, 640, 384)\n",
      "\n",
      "0: 640x384 1 pushrim, 47.8ms\n",
      "Speed: 0.0ms preprocess, 47.8ms inference, 0.0ms postprocess per image at shape (1, 3, 640, 384)\n",
      "\n",
      "0: 640x384 (no detections), 39.9ms\n",
      "Speed: 0.0ms preprocess, 39.9ms inference, 0.0ms postprocess per image at shape (1, 3, 640, 384)\n",
      "\n",
      "0: 640x384 (no detections), 39.6ms\n",
      "Speed: 2.0ms preprocess, 39.6ms inference, 0.0ms postprocess per image at shape (1, 3, 640, 384)\n",
      "\n",
      "0: 640x384 (no detections), 53.6ms\n",
      "Speed: 2.5ms preprocess, 53.6ms inference, 0.0ms postprocess per image at shape (1, 3, 640, 384)\n",
      "\n",
      "0: 640x384 (no detections), 42.7ms\n",
      "Speed: 4.5ms preprocess, 42.7ms inference, 1.0ms postprocess per image at shape (1, 3, 640, 384)\n",
      "\n",
      "0: 640x384 (no detections), 46.5ms\n",
      "Speed: 0.0ms preprocess, 46.5ms inference, 0.0ms postprocess per image at shape (1, 3, 640, 384)\n",
      "\n",
      "0: 640x384 (no detections), 44.8ms\n",
      "Speed: 1.5ms preprocess, 44.8ms inference, 1.0ms postprocess per image at shape (1, 3, 640, 384)\n",
      "\n",
      "0: 640x384 (no detections), 44.5ms\n",
      "Speed: 1.9ms preprocess, 44.5ms inference, 1.0ms postprocess per image at shape (1, 3, 640, 384)\n",
      "\n",
      "0: 640x384 (no detections), 43.7ms\n",
      "Speed: 1.7ms preprocess, 43.7ms inference, 0.0ms postprocess per image at shape (1, 3, 640, 384)\n",
      "\n",
      "0: 640x384 (no detections), 42.3ms\n",
      "Speed: 2.4ms preprocess, 42.3ms inference, 0.0ms postprocess per image at shape (1, 3, 640, 384)\n",
      "\n",
      "0: 640x384 (no detections), 50.2ms\n",
      "Speed: 0.0ms preprocess, 50.2ms inference, 0.0ms postprocess per image at shape (1, 3, 640, 384)\n",
      "\n",
      "0: 640x384 (no detections), 46.2ms\n",
      "Speed: 1.0ms preprocess, 46.2ms inference, 0.0ms postprocess per image at shape (1, 3, 640, 384)\n",
      "\n",
      "0: 640x384 (no detections), 42.3ms\n",
      "Speed: 1.0ms preprocess, 42.3ms inference, 0.0ms postprocess per image at shape (1, 3, 640, 384)\n",
      "\n",
      "0: 640x384 (no detections), 45.5ms\n",
      "Speed: 0.0ms preprocess, 45.5ms inference, 0.0ms postprocess per image at shape (1, 3, 640, 384)\n",
      "\n",
      "0: 640x384 2 pushrims, 43.5ms\n",
      "Speed: 1.0ms preprocess, 43.5ms inference, 1.0ms postprocess per image at shape (1, 3, 640, 384)\n",
      "\n",
      "0: 640x384 2 pushrims, 49.9ms\n",
      "Speed: 3.4ms preprocess, 49.9ms inference, 0.0ms postprocess per image at shape (1, 3, 640, 384)\n",
      "\n",
      "0: 640x384 2 pushrims, 46.3ms\n",
      "Speed: 0.0ms preprocess, 46.3ms inference, 1.0ms postprocess per image at shape (1, 3, 640, 384)\n",
      "\n",
      "0: 640x384 2 pushrims, 61.9ms\n",
      "Speed: 2.0ms preprocess, 61.9ms inference, 0.8ms postprocess per image at shape (1, 3, 640, 384)\n",
      "\n",
      "0: 640x384 2 pushrims, 46.8ms\n",
      "Speed: 0.0ms preprocess, 46.8ms inference, 2.8ms postprocess per image at shape (1, 3, 640, 384)\n",
      "\n",
      "0: 640x384 2 pushrims, 46.4ms\n",
      "Speed: 1.0ms preprocess, 46.4ms inference, 0.0ms postprocess per image at shape (1, 3, 640, 384)\n",
      "\n",
      "0: 640x384 2 pushrims, 42.0ms\n",
      "Speed: 0.9ms preprocess, 42.0ms inference, 0.0ms postprocess per image at shape (1, 3, 640, 384)\n",
      "\n",
      "0: 640x384 2 pushrims, 47.3ms\n",
      "Speed: 0.0ms preprocess, 47.3ms inference, 0.0ms postprocess per image at shape (1, 3, 640, 384)\n",
      "\n",
      "0: 640x384 2 pushrims, 40.1ms\n",
      "Speed: 0.0ms preprocess, 40.1ms inference, 4.3ms postprocess per image at shape (1, 3, 640, 384)\n",
      "\n",
      "0: 640x384 2 pushrims, 42.0ms\n",
      "Speed: 5.5ms preprocess, 42.0ms inference, 0.0ms postprocess per image at shape (1, 3, 640, 384)\n",
      "\n",
      "0: 640x384 2 pushrims, 47.4ms\n",
      "Speed: 0.0ms preprocess, 47.4ms inference, 1.0ms postprocess per image at shape (1, 3, 640, 384)\n",
      "\n",
      "0: 640x384 2 pushrims, 41.1ms\n",
      "Speed: 0.0ms preprocess, 41.1ms inference, 6.5ms postprocess per image at shape (1, 3, 640, 384)\n",
      "\n",
      "0: 640x384 2 pushrims, 47.3ms\n",
      "Speed: 0.0ms preprocess, 47.3ms inference, 1.5ms postprocess per image at shape (1, 3, 640, 384)\n",
      "\n",
      "0: 640x384 2 pushrims, 47.0ms\n",
      "Speed: 0.4ms preprocess, 47.0ms inference, 0.0ms postprocess per image at shape (1, 3, 640, 384)\n",
      "\n",
      "0: 640x384 2 pushrims, 44.0ms\n",
      "Speed: 0.0ms preprocess, 44.0ms inference, 1.0ms postprocess per image at shape (1, 3, 640, 384)\n",
      "\n",
      "0: 640x384 2 pushrims, 49.0ms\n",
      "Speed: 5.0ms preprocess, 49.0ms inference, 0.0ms postprocess per image at shape (1, 3, 640, 384)\n",
      "\n",
      "0: 640x384 2 pushrims, 44.9ms\n",
      "Speed: 1.0ms preprocess, 44.9ms inference, 1.0ms postprocess per image at shape (1, 3, 640, 384)\n",
      "\n",
      "0: 640x384 2 pushrims, 46.3ms\n",
      "Speed: 0.0ms preprocess, 46.3ms inference, 1.0ms postprocess per image at shape (1, 3, 640, 384)\n",
      "\n",
      "0: 640x384 2 pushrims, 50.0ms\n",
      "Speed: 0.0ms preprocess, 50.0ms inference, 0.0ms postprocess per image at shape (1, 3, 640, 384)\n",
      "\n",
      "0: 640x384 2 pushrims, 46.5ms\n",
      "Speed: 0.0ms preprocess, 46.5ms inference, 0.9ms postprocess per image at shape (1, 3, 640, 384)\n",
      "\n",
      "0: 640x384 2 pushrims, 49.9ms\n",
      "Speed: 0.0ms preprocess, 49.9ms inference, 1.0ms postprocess per image at shape (1, 3, 640, 384)\n",
      "\n",
      "0: 640x384 2 pushrims, 65.8ms\n",
      "Speed: 0.0ms preprocess, 65.8ms inference, 0.0ms postprocess per image at shape (1, 3, 640, 384)\n",
      "\n",
      "0: 640x384 2 pushrims, 45.3ms\n",
      "Speed: 1.5ms preprocess, 45.3ms inference, 1.1ms postprocess per image at shape (1, 3, 640, 384)\n",
      "\n",
      "0: 640x384 2 pushrims, 50.2ms\n",
      "Speed: 0.0ms preprocess, 50.2ms inference, 1.0ms postprocess per image at shape (1, 3, 640, 384)\n",
      "\n",
      "0: 640x384 2 pushrims, 45.9ms\n",
      "Speed: 2.0ms preprocess, 45.9ms inference, 1.0ms postprocess per image at shape (1, 3, 640, 384)\n",
      "\n",
      "0: 640x384 2 pushrims, 45.2ms\n",
      "Speed: 1.0ms preprocess, 45.2ms inference, 0.6ms postprocess per image at shape (1, 3, 640, 384)\n",
      "\n",
      "0: 640x384 2 pushrims, 50.0ms\n",
      "Speed: 0.0ms preprocess, 50.0ms inference, 0.0ms postprocess per image at shape (1, 3, 640, 384)\n",
      "\n",
      "0: 640x384 2 pushrims, 46.0ms\n",
      "Speed: 1.0ms preprocess, 46.0ms inference, 1.0ms postprocess per image at shape (1, 3, 640, 384)\n",
      "\n",
      "0: 640x384 2 pushrims, 49.3ms\n",
      "Speed: 2.0ms preprocess, 49.3ms inference, 0.6ms postprocess per image at shape (1, 3, 640, 384)\n",
      "\n",
      "0: 640x384 2 pushrims, 46.7ms\n",
      "Speed: 2.0ms preprocess, 46.7ms inference, 1.0ms postprocess per image at shape (1, 3, 640, 384)\n",
      "\n",
      "0: 640x384 2 pushrims, 47.3ms\n",
      "Speed: 1.0ms preprocess, 47.3ms inference, 0.5ms postprocess per image at shape (1, 3, 640, 384)\n",
      "\n",
      "0: 640x384 2 pushrims, 47.1ms\n",
      "Speed: 0.0ms preprocess, 47.1ms inference, 0.0ms postprocess per image at shape (1, 3, 640, 384)\n",
      "\n",
      "0: 640x384 2 pushrims, 48.8ms\n",
      "Speed: 0.0ms preprocess, 48.8ms inference, 0.0ms postprocess per image at shape (1, 3, 640, 384)\n",
      "\n",
      "0: 640x384 2 pushrims, 48.6ms\n",
      "Speed: 0.0ms preprocess, 48.6ms inference, 0.0ms postprocess per image at shape (1, 3, 640, 384)\n",
      "\n",
      "0: 640x384 2 pushrims, 42.0ms\n",
      "Speed: 8.0ms preprocess, 42.0ms inference, 0.0ms postprocess per image at shape (1, 3, 640, 384)\n",
      "\n",
      "0: 640x384 2 pushrims, 46.4ms\n",
      "Speed: 2.0ms preprocess, 46.4ms inference, 1.0ms postprocess per image at shape (1, 3, 640, 384)\n",
      "\n",
      "0: 640x384 2 pushrims, 64.4ms\n",
      "Speed: 2.0ms preprocess, 64.4ms inference, 1.5ms postprocess per image at shape (1, 3, 640, 384)\n",
      "\n",
      "0: 640x384 2 pushrims, 48.2ms\n",
      "Speed: 0.0ms preprocess, 48.2ms inference, 0.0ms postprocess per image at shape (1, 3, 640, 384)\n",
      "\n",
      "0: 640x384 2 pushrims, 41.3ms\n",
      "Speed: 6.1ms preprocess, 41.3ms inference, 1.4ms postprocess per image at shape (1, 3, 640, 384)\n",
      "\n",
      "0: 640x384 2 pushrims, 47.4ms\n",
      "Speed: 1.0ms preprocess, 47.4ms inference, 0.0ms postprocess per image at shape (1, 3, 640, 384)\n",
      "\n",
      "0: 640x384 2 pushrims, 40.7ms\n",
      "Speed: 2.0ms preprocess, 40.7ms inference, 1.0ms postprocess per image at shape (1, 3, 640, 384)\n",
      "\n",
      "0: 640x384 2 pushrims, 40.0ms\n",
      "Speed: 1.5ms preprocess, 40.0ms inference, 3.6ms postprocess per image at shape (1, 3, 640, 384)\n",
      "\n",
      "0: 640x384 2 pushrims, 45.6ms\n",
      "Speed: 1.0ms preprocess, 45.6ms inference, 0.0ms postprocess per image at shape (1, 3, 640, 384)\n",
      "\n",
      "0: 640x384 2 pushrims, 49.0ms\n",
      "Speed: 0.0ms preprocess, 49.0ms inference, 0.0ms postprocess per image at shape (1, 3, 640, 384)\n",
      "\n",
      "0: 640x384 2 pushrims, 42.4ms\n",
      "Speed: 5.0ms preprocess, 42.4ms inference, 1.0ms postprocess per image at shape (1, 3, 640, 384)\n",
      "\n",
      "0: 640x384 2 pushrims, 46.2ms\n",
      "Speed: 1.0ms preprocess, 46.2ms inference, 0.0ms postprocess per image at shape (1, 3, 640, 384)\n",
      "\n",
      "0: 640x384 3 pushrims, 48.9ms\n",
      "Speed: 0.0ms preprocess, 48.9ms inference, 1.0ms postprocess per image at shape (1, 3, 640, 384)\n",
      "\n",
      "0: 640x384 2 pushrims, 45.7ms\n",
      "Speed: 0.0ms preprocess, 45.7ms inference, 0.0ms postprocess per image at shape (1, 3, 640, 384)\n",
      "\n",
      "0: 640x384 2 pushrims, 39.7ms\n",
      "Speed: 0.2ms preprocess, 39.7ms inference, 0.0ms postprocess per image at shape (1, 3, 640, 384)\n",
      "\n",
      "0: 640x384 2 pushrims, 44.9ms\n",
      "Speed: 0.0ms preprocess, 44.9ms inference, 1.0ms postprocess per image at shape (1, 3, 640, 384)\n",
      "\n",
      "0: 640x384 2 pushrims, 50.1ms\n",
      "Speed: 0.0ms preprocess, 50.1ms inference, 0.0ms postprocess per image at shape (1, 3, 640, 384)\n",
      "\n",
      "0: 640x384 2 pushrims, 45.6ms\n",
      "Speed: 0.0ms preprocess, 45.6ms inference, 0.0ms postprocess per image at shape (1, 3, 640, 384)\n",
      "\n",
      "0: 640x384 2 pushrims, 45.6ms\n",
      "Speed: 2.0ms preprocess, 45.6ms inference, 1.4ms postprocess per image at shape (1, 3, 640, 384)\n",
      "\n",
      "0: 640x384 2 pushrims, 45.3ms\n",
      "Speed: 2.0ms preprocess, 45.3ms inference, 1.0ms postprocess per image at shape (1, 3, 640, 384)\n",
      "\n",
      "0: 640x384 2 pushrims, 42.7ms\n",
      "Speed: 1.2ms preprocess, 42.7ms inference, 0.9ms postprocess per image at shape (1, 3, 640, 384)\n",
      "\n",
      "0: 640x384 2 pushrims, 58.2ms\n",
      "Speed: 1.0ms preprocess, 58.2ms inference, 1.0ms postprocess per image at shape (1, 3, 640, 384)\n",
      "\n",
      "0: 640x384 2 pushrims, 46.2ms\n",
      "Speed: 1.0ms preprocess, 46.2ms inference, 0.0ms postprocess per image at shape (1, 3, 640, 384)\n",
      "\n",
      "0: 640x384 2 pushrims, 49.6ms\n",
      "Speed: 0.0ms preprocess, 49.6ms inference, 0.0ms postprocess per image at shape (1, 3, 640, 384)\n",
      "\n",
      "0: 640x384 3 pushrims, 57.3ms\n",
      "Speed: 0.0ms preprocess, 57.3ms inference, 0.0ms postprocess per image at shape (1, 3, 640, 384)\n",
      "\n",
      "0: 640x384 2 pushrims, 47.5ms\n",
      "Speed: 3.3ms preprocess, 47.5ms inference, 1.0ms postprocess per image at shape (1, 3, 640, 384)\n",
      "\n",
      "0: 640x384 2 pushrims, 49.7ms\n",
      "Speed: 0.0ms preprocess, 49.7ms inference, 0.0ms postprocess per image at shape (1, 3, 640, 384)\n",
      "\n",
      "0: 640x384 2 pushrims, 47.9ms\n",
      "Speed: 2.0ms preprocess, 47.9ms inference, 1.5ms postprocess per image at shape (1, 3, 640, 384)\n",
      "\n",
      "0: 640x384 3 pushrims, 42.1ms\n",
      "Speed: 2.0ms preprocess, 42.1ms inference, 0.0ms postprocess per image at shape (1, 3, 640, 384)\n",
      "\n",
      "0: 640x384 3 pushrims, 43.9ms\n",
      "Speed: 1.0ms preprocess, 43.9ms inference, 0.0ms postprocess per image at shape (1, 3, 640, 384)\n",
      "\n",
      "0: 640x384 3 pushrims, 65.6ms\n",
      "Speed: 2.3ms preprocess, 65.6ms inference, 1.0ms postprocess per image at shape (1, 3, 640, 384)\n",
      "\n",
      "0: 640x384 (no detections), 46.9ms\n",
      "Speed: 1.6ms preprocess, 46.9ms inference, 0.0ms postprocess per image at shape (1, 3, 640, 384)\n",
      "\n",
      "0: 640x384 (no detections), 43.0ms\n",
      "Speed: 1.0ms preprocess, 43.0ms inference, 0.0ms postprocess per image at shape (1, 3, 640, 384)\n",
      "\n",
      "0: 640x384 (no detections), 43.5ms\n",
      "Speed: 1.0ms preprocess, 43.5ms inference, 0.0ms postprocess per image at shape (1, 3, 640, 384)\n",
      "\n",
      "0: 640x384 (no detections), 44.4ms\n",
      "Speed: 0.0ms preprocess, 44.4ms inference, 1.0ms postprocess per image at shape (1, 3, 640, 384)\n",
      "\n",
      "0: 640x384 (no detections), 43.6ms\n",
      "Speed: 1.4ms preprocess, 43.6ms inference, 0.0ms postprocess per image at shape (1, 3, 640, 384)\n",
      "\n",
      "0: 640x384 (no detections), 43.2ms\n",
      "Speed: 1.0ms preprocess, 43.2ms inference, 0.0ms postprocess per image at shape (1, 3, 640, 384)\n",
      "\n",
      "0: 640x384 (no detections), 43.8ms\n",
      "Speed: 9.8ms preprocess, 43.8ms inference, 0.9ms postprocess per image at shape (1, 3, 640, 384)\n",
      "\n",
      "0: 640x384 (no detections), 48.6ms\n",
      "Speed: 0.0ms preprocess, 48.6ms inference, 0.0ms postprocess per image at shape (1, 3, 640, 384)\n",
      "\n",
      "0: 640x384 (no detections), 38.4ms\n",
      "Speed: 1.0ms preprocess, 38.4ms inference, 0.0ms postprocess per image at shape (1, 3, 640, 384)\n",
      "\n",
      "0: 640x384 (no detections), 43.0ms\n",
      "Speed: 10.0ms preprocess, 43.0ms inference, 0.0ms postprocess per image at shape (1, 3, 640, 384)\n",
      "\n",
      "0: 640x384 (no detections), 46.2ms\n",
      "Speed: 1.2ms preprocess, 46.2ms inference, 0.0ms postprocess per image at shape (1, 3, 640, 384)\n",
      "\n",
      "0: 640x384 (no detections), 39.8ms\n",
      "Speed: 1.0ms preprocess, 39.8ms inference, 0.0ms postprocess per image at shape (1, 3, 640, 384)\n",
      "\n",
      "0: 640x384 (no detections), 41.5ms\n",
      "Speed: 1.0ms preprocess, 41.5ms inference, 1.0ms postprocess per image at shape (1, 3, 640, 384)\n",
      "\n",
      "0: 640x384 (no detections), 48.3ms\n",
      "Speed: 0.0ms preprocess, 48.3ms inference, 1.5ms postprocess per image at shape (1, 3, 640, 384)\n",
      "\n",
      "0: 640x384 (no detections), 42.5ms\n",
      "Speed: 1.0ms preprocess, 42.5ms inference, 0.0ms postprocess per image at shape (1, 3, 640, 384)\n",
      "\n",
      "0: 640x384 (no detections), 44.0ms\n",
      "Speed: 1.0ms preprocess, 44.0ms inference, 0.5ms postprocess per image at shape (1, 3, 640, 384)\n",
      "\n",
      "0: 640x384 (no detections), 49.8ms\n",
      "Speed: 0.0ms preprocess, 49.8ms inference, 0.1ms postprocess per image at shape (1, 3, 640, 384)\n",
      "\n",
      "0: 640x384 (no detections), 42.2ms\n",
      "Speed: 0.0ms preprocess, 42.2ms inference, 0.0ms postprocess per image at shape (1, 3, 640, 384)\n",
      "\n",
      "0: 640x384 (no detections), 42.1ms\n",
      "Speed: 1.6ms preprocess, 42.1ms inference, 0.0ms postprocess per image at shape (1, 3, 640, 384)\n",
      "\n",
      "0: 640x384 (no detections), 51.9ms\n",
      "Speed: 2.1ms preprocess, 51.9ms inference, 0.0ms postprocess per image at shape (1, 3, 640, 384)\n",
      "\n",
      "0: 640x384 (no detections), 42.2ms\n",
      "Speed: 1.0ms preprocess, 42.2ms inference, 0.0ms postprocess per image at shape (1, 3, 640, 384)\n",
      "\n",
      "0: 640x384 (no detections), 40.1ms\n",
      "Speed: 2.6ms preprocess, 40.1ms inference, 0.0ms postprocess per image at shape (1, 3, 640, 384)\n",
      "\n",
      "0: 640x384 (no detections), 38.5ms\n",
      "Speed: 2.0ms preprocess, 38.5ms inference, 0.0ms postprocess per image at shape (1, 3, 640, 384)\n",
      "\n",
      "0: 640x384 (no detections), 51.3ms\n",
      "Speed: 0.0ms preprocess, 51.3ms inference, 1.0ms postprocess per image at shape (1, 3, 640, 384)\n",
      "\n",
      "0: 640x384 (no detections), 42.0ms\n",
      "Speed: 1.0ms preprocess, 42.0ms inference, 0.0ms postprocess per image at shape (1, 3, 640, 384)\n",
      "\n",
      "0: 640x384 (no detections), 41.7ms\n",
      "Speed: 1.0ms preprocess, 41.7ms inference, 0.0ms postprocess per image at shape (1, 3, 640, 384)\n",
      "\n",
      "0: 640x384 (no detections), 43.9ms\n",
      "Speed: 4.6ms preprocess, 43.9ms inference, 0.0ms postprocess per image at shape (1, 3, 640, 384)\n",
      "\n",
      "0: 640x384 (no detections), 39.9ms\n",
      "Speed: 4.5ms preprocess, 39.9ms inference, 0.0ms postprocess per image at shape (1, 3, 640, 384)\n",
      "\n",
      "0: 640x384 (no detections), 44.5ms\n",
      "Speed: 1.4ms preprocess, 44.5ms inference, 0.0ms postprocess per image at shape (1, 3, 640, 384)\n"
     ]
    }
   ],
   "source": [
    "import os\n",
    "import cv2\n",
    "\n",
    "\n",
    "VIDEOS_DIR = os.path.join('.', 'videos')\n",
    "\n",
    "video_path = os.path.join(VIDEOS_DIR, 'wheelchair.mp4')\n",
    "video_path_out = '{}_out.mp4'.format(video_path)\n",
    "\n",
    "cap = cv2.VideoCapture(video_path)\n",
    "ret, frame = cap.read()\n",
    "H, W, _ = frame.shape\n",
    "out = cv2.VideoWriter(video_path_out, cv2.VideoWriter_fourcc(*'MP4V'), int(cap.get(cv2.CAP_PROP_FPS)), (W, H))\n",
    "\n",
    "model_path = os.path.join('.', 'runs', 'detect', 'train', 'weights', 'last.pt')\n",
    "\n",
    "# Load a model\n",
    "model = YOLO(model_path)  # load a custom model\n",
    "\n",
    "threshold = 0.5\n",
    "\n",
    "while ret:\n",
    "\n",
    "    results = model(frame)[0]\n",
    "\n",
    "    for result in results.boxes.data.tolist():\n",
    "        x1, y1, x2, y2, score, class_id = result\n",
    "\n",
    "        if score > threshold:\n",
    "            cv2.rectangle(frame, (int(x1), int(y1)), (int(x2), int(y2)), (0, 255, 0), 4)\n",
    "            cv2.putText(frame, results.names[int(class_id)].upper(), (int(x1), int(y1 - 10)),\n",
    "                        cv2.FONT_HERSHEY_SIMPLEX, 1.3, (0, 255, 0), 3, cv2.LINE_AA)\n",
    "\n",
    "    out.write(frame)\n",
    "    ret, frame = cap.read()\n",
    "\n",
    "cap.release()\n",
    "out.release()\n",
    "cv2.destroyAllWindows()"
   ]
  }
 ],
 "metadata": {
  "kernelspec": {
   "display_name": "Python 3",
   "language": "python",
   "name": "python3"
  },
  "language_info": {
   "codemirror_mode": {
    "name": "ipython",
    "version": 3
   },
   "file_extension": ".py",
   "mimetype": "text/x-python",
   "name": "python",
   "nbconvert_exporter": "python",
   "pygments_lexer": "ipython3",
   "version": "3.12.1"
  }
 },
 "nbformat": 4,
 "nbformat_minor": 2
}
